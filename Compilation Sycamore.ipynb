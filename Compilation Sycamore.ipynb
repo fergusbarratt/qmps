{
 "cells": [
  {
   "cell_type": "code",
   "execution_count": 1,
   "metadata": {},
   "outputs": [],
   "source": [
    "import numpy as np\n",
    "\n",
    "U = lambda θ, ϕ: np.array([\n",
    "    [0,1j*np.exp(-1j*ϕ),0,0],\n",
    "    [np.cos(θ), 0, 0, -np.sin(θ)],\n",
    "    [0,0,1,0],\n",
    "    [np.sin(θ), 0, 0, np.cos(θ)]\n",
    "])"
   ]
  },
  {
   "cell_type": "code",
   "execution_count": 40,
   "metadata": {},
   "outputs": [
    {
     "name": "stdout",
     "output_type": "stream",
     "text": [
      "0: ───X─────────@───X───X─────────S──────────\n",
      "                │       │\n",
      "1: ───Z^0.341───X───────@^0.064───Z^-0.032───\n",
      "sin(θ) =  0.09983341664682815\n",
      "cos(θ) =  0.9950041652780258\n",
      "i exp(-iϕ) =  (0.479425538604203+0.8775825618903728j)\n"
     ]
    },
    {
     "data": {
      "text/plain": [
       "array([[ 0.   +0.j   ,  0.479+0.878j,  0.   +0.j   ,  0.   +0.j   ],\n",
       "       [ 0.995+0.j   ,  0.   +0.j   ,  0.   +0.j   ,  0.088-0.048j],\n",
       "       [ 0.   +0.j   ,  0.   +0.j   ,  0.   +1.j   ,  0.   +0.j   ],\n",
       "       [ 0.1  +0.j   ,  0.   +0.j   ,  0.   +0.j   , -0.873+0.477j]])"
      ]
     },
     "execution_count": 40,
     "metadata": {},
     "output_type": "execute_result"
    }
   ],
   "source": [
    "import cirq\n",
    "import numpy as np\n",
    "circuit = cirq.Circuit()\n",
    "θ = 0.1\n",
    "ϕ = 0.5\n",
    "π = np.pi\n",
    "q = cirq.LineQubit.range(2)\n",
    "circuit.append([\n",
    "            cirq.ZPowGate(exponent=(-1/π) * (ϕ - (π/2))).on(q[1]),\n",
    "            cirq.X.on(q[0]),\n",
    "            cirq.CNOT(q[0], q[1]),\n",
    "            cirq.X.on(q[0]),\n",
    "            cirq.CXPowGate(exponent=2*θ/π).on(q[1], q[0]),\n",
    "            cirq.S.on(q[0]),\n",
    "            cirq.ZPowGate(exponent=-θ/π).on(qubits[1])\n",
    "])\n",
    "print(circuit)\n",
    "print(\"sin(θ) = \", np.sin(θ))\n",
    "print(\"cos(θ) = \",np.cos(θ))\n",
    "print(\"i exp(-iϕ) = \",1j * np.exp(-1j*ϕ))\n",
    "U = cirq.unitary(circuit)\n",
    "print(np.round(U,3))\n",
    "\n"
   ]
  },
  {
   "cell_type": "markdown",
   "metadata": {},
   "source": [
    "### Compile right environment unitary"
   ]
  },
  {
   "cell_type": "code",
   "execution_count": 19,
   "metadata": {},
   "outputs": [
    {
     "name": "stdout",
     "output_type": "stream",
     "text": [
      "1.6806444760492278\n"
     ]
    }
   ],
   "source": [
    "import numpy as np\n",
    "from scipy.linalg import null_space\n",
    "def put_env_on_left_site(q, ret_n=False):\n",
    "    # Take a matrix q (2x2) and create U such that \n",
    "    # (right 0-|---|--0\n",
    "    #          | u |        =  q_{ij}\n",
    "    # (left) i-|---|--j \n",
    "    q = q.T\n",
    "    a, b, c, d = q.reshape(-1)\n",
    "    n = np.sqrt(np.abs(a)**2+ np.abs(c)**2+ np.abs(b)**2+ np.abs(d)**2)\n",
    "    guess = np.array([[a, c.conj(), b, d.conj()], [c, -a.conj(), d, -b.conj()]])/n\n",
    "    orth = null_space(guess).conj().T\n",
    "    A = np.concatenate([guess, orth], axis=0)\n",
    "    SWAP = np.array([\n",
    "     [1, 0, 0, 0],\n",
    "     [0, 0, 1, 0],\n",
    "     [0, 1, 0, 0],\n",
    "     [0, 0, 0, 1]])\n",
    "    A = SWAP@A\n",
    "    if ret_n:\n",
    "        return A, n\n",
    "    else:\n",
    "        return A\n",
    "\n",
    "    \n",
    "θ1 = 1\n",
    "θ2 = 1\n",
    "ϕ1 = 1\n",
    "ϕ2 = 1\n",
    "\n",
    "cos2 = lambda x: np.cos(x)**2\n",
    "sin2 = lambda x: np.sin(x)**2\n",
    "e = lambda x: np.exp(1j*x)\n",
    "\n",
    "num = lambda ϕ2: 2*e(ϕ2)\n",
    "den = lambda ϕ1,ϕ2,θ1,θ2: np.sqrt((e(ϕ1)*cos2(θ2)*cos2(θ1) + 4*e(ϕ2)*np.sin(θ1)*np.sin(θ2)) * e(ϕ1)) + e(ϕ1)*np.cos(θ1)*np.cos(θ2)\n",
    "\n",
    "R00 = lambda ϕ1,ϕ2,θ1,θ2: -num(ϕ2) / den(ϕ1,ϕ2,θ1,θ2)\n",
    "\n",
    "R10 = lambda θ: 1 / np.tan(θ)\n",
    "\n",
    "R = lambda ϕ1,ϕ2,θ1,θ2: np.array([\n",
    "    [R00(ϕ1,ϕ2,θ1,θ2), R10(θ1)],\n",
    "    [R10(θ2), 1]\n",
    "])\n",
    "\n",
    "UR = lambda ϕ1,ϕ2,θ1,θ2: put_env_on_left_site(R(ϕ1,ϕ2,θ1,θ2))\n",
    "\n",
    "print(np.linalg.norm(R(1,1,1,1)))\n",
    "\n"
   ]
  },
  {
   "cell_type": "markdown",
   "metadata": {},
   "source": [
    "### Compile Many Body Scars"
   ]
  },
  {
   "cell_type": "code",
   "execution_count": 28,
   "metadata": {},
   "outputs": [
    {
     "name": "stdout",
     "output_type": "stream",
     "text": [
      "0: ───X─────────@───X───X─────────S──────────\n",
      "                │       │\n",
      "1: ───Z^0.468───X───────@^0.064───Z^-0.032───\n"
     ]
    }
   ],
   "source": [
    "# This is the original circuit we define\n",
    "\n",
    "import cirq\n",
    "import numpy as n\n",
    "from sympy import Symbol\n",
    "circuit = cirq.Circuit()\n",
    "θ = 0.1#, Symbol('θ')\n",
    "ϕ = 0.1#, Symbol('ϕ')\n",
    "π = np.pi#,Symbol('π')\n",
    "q = cirq.LineQubit.range(2)\n",
    "circuit.append([\n",
    "            cirq.ZPowGate(exponent=(-1/π) * (ϕ - (π/2))).on(q[1]),\n",
    "            cirq.X.on(q[0]),\n",
    "            cirq.CNOT(q[0], q[1]),\n",
    "            cirq.X.on(q[0]),\n",
    "            cirq.CXPowGate(exponent=2*θ/π).on(q[1], q[0]),\n",
    "            cirq.S.on(q[0]),\n",
    "            cirq.ZPowGate(exponent=-θ/π).on(q[1])\n",
    "])\n",
    "print(circuit)\n",
    "\n"
   ]
  },
  {
   "cell_type": "code",
   "execution_count": 19,
   "metadata": {},
   "outputs": [
    {
     "name": "stdout",
     "output_type": "stream",
     "text": [
      "Z**0.4681690113816209(1) and X(0)\n",
      "PhX(-0.5)^0.5(1)\n",
      "CZ**-1.0(0, 1)\n",
      "X(0) and PhX(0.5)^0.5(1)\n",
      "PhX(-0.518)^0.5000000000000036(1) and PhX(0.5)^0.499999999999992(0)\n",
      "CZ(1, 0)\n",
      "PhX(0.982)^0.031830988618378964(1)\n",
      "CZ(1, 0)\n",
      "PhX(-0.468)^0.5(0) and PhX(0.482)^0.5000000000000036(1)\n",
      "Z**-0.0318309886183783(0) and Z**0.03183098861837963(1)\n",
      "S(0) and Z**-0.03183098861837907(1)\n"
     ]
    }
   ],
   "source": [
    "# Thing to try:\n",
    "\n",
    "# ConvertToCZAndSingleGates\n",
    "# EjectPhasedPaulis\n",
    "# EjectZ\n",
    "# MergeSinlgeQubitGates\n",
    "# optimized_for_sycamore\n",
    "\n",
    "cirq.ConvertToCzAndSingleGates().optimize_circuit(circuit = circuit)\n",
    "for moment in circuit:\n",
    "    print(moment)"
   ]
  },
  {
   "cell_type": "code",
   "execution_count": 21,
   "metadata": {},
   "outputs": [
    {
     "name": "stdout",
     "output_type": "stream",
     "text": [
      "X(0)\n",
      "PhX(-0.968)^0.5(1)\n",
      "CZ**-1.0(0, 1)\n",
      "X(0) and PhX(0.0318)^0.5(1)\n",
      "PhX(-0.986)^0.5000000000000036(1) and PhX(0.5)^0.499999999999992(0)\n",
      "CZ(1, 0)\n",
      "PhX(0.514)^0.031830988618378964(1)\n",
      "CZ(1, 0)\n",
      "PhX(-0.468)^0.5(0) and PhX(0.0139)^0.5000000000000036(1)\n",
      "Z**0.4681690113816217(0) and Z**0.4681690113816215(1)\n",
      "\n"
     ]
    }
   ],
   "source": [
    "cirq.EjectZ().optimize_circuit(circuit=circuit)\n",
    "for moment in circuit:\n",
    "    print(moment)"
   ]
  },
  {
   "cell_type": "code",
   "execution_count": 22,
   "metadata": {},
   "outputs": [
    {
     "name": "stdout",
     "output_type": "stream",
     "text": [
      "\n",
      "PhX(-0.968)^0.5(1)\n",
      "Z**-1.0(1)\n",
      "CZ(0, 1)\n",
      "PhX(0.0318)^0.5(1)\n",
      "PhX(-0.986)^0.5000000000000036(1) and PhX(0.5)^0.499999999999992(0)\n",
      "CZ(1, 0)\n",
      "PhX(0.514)^0.031830988618378964(1)\n",
      "CZ(1, 0)\n",
      "PhX(-0.468)^0.5(0) and PhX(0.0139)^0.5000000000000036(1)\n",
      "Z**0.4681690113816217(0) and Z**0.4681690113816215(1)\n",
      "\n"
     ]
    }
   ],
   "source": [
    "cirq.EjectPhasedPaulis().optimize_circuit(circuit=circuit)\n",
    "for moment in circuit:\n",
    "    print(moment)"
   ]
  },
  {
   "cell_type": "code",
   "execution_count": 29,
   "metadata": {},
   "outputs": [
    {
     "name": "stdout",
     "output_type": "stream",
     "text": [
      "PhXZ(a=0.0318,x=0.5,z=0)(1) and PhXZ(a=-0.5,x=0.414,z=0)(0)\n",
      "SYC(0, 1)\n",
      "PhXZ(a=0.417,x=0.477,z=0)(1)\n",
      "SYC(0, 1)\n",
      "PhXZ(a=0.833,x=0.5,z=0)(0) and PhXZ(a=0.861,x=0.415,z=0)(1)\n",
      "SYC(1, 0)\n",
      "PhXZ(a=0.279,x=0.967,z=0)(0)\n",
      "SYC(1, 0)\n",
      "PhXZ(a=0.195,x=0.504,z=0.72)(1) and PhXZ(a=1.28,x=0.5,z=-1.28)(0)\n"
     ]
    }
   ],
   "source": [
    "for m in cirq.google.optimized_for_sycamore(circuit = circuit, optimizer_type='sycamore'):\n",
    "    print(m)"
   ]
  },
  {
   "cell_type": "code",
   "execution_count": 30,
   "metadata": {},
   "outputs": [
    {
     "data": {
      "text/plain": [
       "9"
      ]
     },
     "execution_count": 30,
     "metadata": {},
     "output_type": "execute_result"
    }
   ],
   "source": [
    "len(cirq.google.optimized_for_sycamore(circuit = circuit, optimizer_type='sycamore'))\n"
   ]
  },
  {
   "cell_type": "code",
   "execution_count": null,
   "metadata": {},
   "outputs": [],
   "source": []
  }
 ],
 "metadata": {
  "kernelspec": {
   "display_name": "Python 3",
   "language": "python",
   "name": "python3"
  },
  "language_info": {
   "codemirror_mode": {
    "name": "ipython",
    "version": 3
   },
   "file_extension": ".py",
   "mimetype": "text/x-python",
   "name": "python",
   "nbconvert_exporter": "python",
   "pygments_lexer": "ipython3",
   "version": "3.7.6"
  },
  "toc": {
   "base_numbering": 1,
   "nav_menu": {},
   "number_sections": true,
   "sideBar": true,
   "skip_h1_title": false,
   "title_cell": "Table of Contents",
   "title_sidebar": "Contents",
   "toc_cell": false,
   "toc_position": {},
   "toc_section_display": true,
   "toc_window_display": false
  }
 },
 "nbformat": 4,
 "nbformat_minor": 4
}
