{
 "cells": [
  {
   "cell_type": "code",
   "execution_count": 1,
   "metadata": {},
   "outputs": [],
   "source": [
    "from sympy import Symbol, Matrix, simplify, I, exp\n",
    "import numpy as np"
   ]
  },
  {
   "cell_type": "code",
   "execution_count": 25,
   "metadata": {},
   "outputs": [
    {
     "name": "stderr",
     "output_type": "stream",
     "text": [
      "/home/jamie/anaconda3/envs/Cirq/lib/python3.7/site-packages/ipykernel_launcher.py:23: ComplexWarning: Casting complex values to real discards the imaginary part\n"
     ]
    },
    {
     "data": {
      "text/latex": [
       "$\\displaystyle \\left[\\begin{matrix}0 & 0 & 0 & 0\\\\0 & 0 & 0 & 0\\\\0 & 0 & 0 & 0\\\\0 & 0 & 0 & 0\\end{matrix}\\right]$"
      ],
      "text/plain": [
       "Matrix([\n",
       "[0, 0, 0, 0],\n",
       "[0, 0, 0, 0],\n",
       "[0, 0, 0, 0],\n",
       "[0, 0, 0, 0]])"
      ]
     },
     "execution_count": 25,
     "metadata": {},
     "output_type": "execute_result"
    }
   ],
   "source": [
    "# pauli gates that we will need later\n",
    "\n",
    "Y = np.array([\n",
    "    [0,-1j],\n",
    "    [1j,0]\n",
    "])\n",
    "\n",
    "X = np.array([\n",
    "    [0,1],\n",
    "    [1,0]\n",
    "])\n",
    "\n",
    "Z = np.array([\n",
    "    [1,0],\n",
    "    [0,-1]\n",
    "])\n",
    "\n",
    "# make a sympy symbol\n",
    "θ = Symbol('θ')\n",
    "\n",
    "# construct the native K(θ) gate\n",
    "xx = np.kron(X,X).astype(int)\n",
    "yy = np.kron(Y,Y).astype(int)\n",
    "\n",
    "XX = Matrix(xx.tolist())\n",
    "YY = Matrix(yy.tolist())\n",
    "\n",
    "# this is the samea s the K gate in the Google Paper\n",
    "Kθ = simplify(exp(0.5 * I * (XX + YY) * θ))\n",
    "\n",
    "# Making exp(iXXθ) from gates K(θ)(native) and K̃(θ)(not native)\n",
    "# We want to get somethin that is like exp(I*XX*θ)\n",
    "K̃θ = simplify(exp(0.5 * I * (XX - YY) * θ))\n",
    "\n",
    "# Now K * K̃ α exp(I XX θ):\n",
    "K̃θKθ = K̃θ * Kθ\n",
    "K̃θKθ\n",
    "\n",
    "expXX = simplify(exp(I * (XX) * θ))\n",
    "expXX - K̃θKθ\n",
    "# These are the same\n"
   ]
  },
  {
   "cell_type": "code",
   "execution_count": 21,
   "metadata": {},
   "outputs": [
    {
     "data": {
      "text/latex": [
       "$\\displaystyle \\left[\\begin{matrix}0 & 0 & 0 & 0\\\\0 & 0 & 0 & 0\\\\0 & 0 & 0 & 0\\\\0 & 0 & 0 & 0\\end{matrix}\\right]$"
      ],
      "text/plain": [
       "Matrix([\n",
       "[0, 0, 0, 0],\n",
       "[0, 0, 0, 0],\n",
       "[0, 0, 0, 0],\n",
       "[0, 0, 0, 0]])"
      ]
     },
     "execution_count": 21,
     "metadata": {},
     "output_type": "execute_result"
    }
   ],
   "source": [
    "# How to make K̃(θ)?: \n",
    "ix = np.kron(np.eye(2),X).astype(int)\n",
    "IX = Matrix(ix.tolist())\n",
    "\n",
    "IX*Kθ*IX - K̃θ \n",
    "# We can make K̃θ with local X gates"
   ]
  },
  {
   "cell_type": "code",
   "execution_count": 13,
   "metadata": {},
   "outputs": [
    {
     "data": {
      "text/latex": [
       "$\\displaystyle \\left[\\begin{matrix}1.0 e^{1.0 i θ} - 1.0 e^{i θ} & 0 & 0 & 0\\\\0 & 0 & 0 & 0\\\\0 & 0 & 0 & 0\\\\0 & 0 & 0 & 0\\end{matrix}\\right]$"
      ],
      "text/plain": [
       "Matrix([\n",
       "[1.0*exp(1.0*I*θ) - 1.0*exp(I*θ), 0, 0, 0],\n",
       "[                              0, 0, 0, 0],\n",
       "[                              0, 0, 0, 0],\n",
       "[                              0, 0, 0, 0]])"
      ]
     },
     "execution_count": 13,
     "metadata": {},
     "output_type": "execute_result"
    }
   ],
   "source": [
    "zi = np.kron(Z,np.eye(2))\n",
    "iz = np.kron(np.eye(2),Z)\n",
    "\n",
    "ZI = Matrix(zi.tolist())\n",
    "IZ = Matrix(iz.tolist())\n",
    "\n",
    "ZIIZ = exp(0.5*I*(ZI+IZ)*θ)\n",
    "\n",
    "# How do we recreate this gate with CPHASE(θ)?\n",
    "\n",
    "cz = np.array([\n",
    "    [1,0,0,0],\n",
    "    [0,1,0,0],\n",
    "    [0,0,1,0],\n",
    "    [0,0,0,-1]\n",
    "]).astype(int)\n",
    "\n",
    "CZ = Matrix(cz.tolist())\n",
    "XX = Matrix([\n",
    "    [0,0,0,1],\n",
    "    [0,0,1,0],\n",
    "    [0,1,0,0],\n",
    "    [1,0,0,0]\n",
    "])\n",
    "\n",
    "\n",
    "CZGate = exp(0.5*I*CZ*θ)\n",
    "MinCZGate = exp(-0.5*I*CZ*θ)\n",
    "\n",
    "simplify(CZGate*XX*MinCZGate*XX - ZIIZ) \n",
    "\n",
    "# despite Sympy's protestations, these are the same\n",
    "# Therefore we can make the local Z rotations with CPHASE gates and X gates on all qubit legs"
   ]
  },
  {
   "cell_type": "code",
   "execution_count": 28,
   "metadata": {},
   "outputs": [
    {
     "name": "stderr",
     "output_type": "stream",
     "text": [
      "/home/jamie/anaconda3/envs/Cirq/lib/python3.7/site-packages/ipykernel_launcher.py:3: ComplexWarning: Casting complex values to real discards the imaginary part\n",
      "  This is separate from the ipykernel package so we can avoid doing imports until\n"
     ]
    },
    {
     "data": {
      "text/latex": [
       "$\\displaystyle \\left[\\begin{matrix}0 & 0 & 0 & 0\\\\0 & 0 & 0 & 0\\\\0 & 0 & 0 & 0\\\\0 & 0 & 0 & 0\\end{matrix}\\right]$"
      ],
      "text/plain": [
       "Matrix([\n",
       "[0, 0, 0, 0],\n",
       "[0, 0, 0, 0],\n",
       "[0, 0, 0, 0],\n",
       "[0, 0, 0, 0]])"
      ]
     },
     "execution_count": 28,
     "metadata": {},
     "output_type": "execute_result"
    }
   ],
   "source": [
    "# e^iYYθ:\n",
    "\n",
    "yy = np.kron(Y,Y).astype(int)\n",
    "YY = Matrix(yy.tolist())\n",
    "\n",
    "Kθ = simplify(exp(0.5 * I * (XX + YY) * θ))\n",
    "K̄θ = simplify(exp(-0.5 * I * (XX - YY) * θ))\n",
    "\n",
    "KθK̄θ = K̄θ*Kθ\n",
    "KθK̄θ - simplify(exp(I*YY*θ))\n",
    "\n",
    "# These gates are the same "
   ]
  },
  {
   "cell_type": "code",
   "execution_count": null,
   "metadata": {},
   "outputs": [],
   "source": []
  }
 ],
 "metadata": {
  "kernelspec": {
   "display_name": "Python 3",
   "language": "python",
   "name": "python3"
  },
  "language_info": {
   "codemirror_mode": {
    "name": "ipython",
    "version": 3
   },
   "file_extension": ".py",
   "mimetype": "text/x-python",
   "name": "python",
   "nbconvert_exporter": "python",
   "pygments_lexer": "ipython3",
   "version": "3.7.6"
  },
  "toc": {
   "base_numbering": 1,
   "nav_menu": {},
   "number_sections": true,
   "sideBar": true,
   "skip_h1_title": false,
   "title_cell": "Table of Contents",
   "title_sidebar": "Contents",
   "toc_cell": false,
   "toc_position": {},
   "toc_section_display": true,
   "toc_window_display": false
  }
 },
 "nbformat": 4,
 "nbformat_minor": 4
}
