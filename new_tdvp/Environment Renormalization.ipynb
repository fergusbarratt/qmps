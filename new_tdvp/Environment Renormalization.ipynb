{
 "cells": [
  {
   "cell_type": "code",
   "execution_count": 1,
   "metadata": {},
   "outputs": [],
   "source": [
    "import numpy as np\n",
    "from scipy.optimize import minimize\n",
    "from xmps.spin import U4\n",
    "from scipy.stats import unitary_group\n",
    "from scipy.linalg import eig\n",
    "\n",
    "X = np.array([\n",
    "    [0,1],\n",
    "    [1,0]\n",
    "])\n",
    "\n",
    "Z = np.array([\n",
    "    [1,0],\n",
    "    [0,-1]\n",
    "])"
   ]
  },
  {
   "attachments": {
    "image.png": {
     "image/png": "[encoded data removed]"
    }
   },
   "cell_type": "markdown",
   "metadata": {},
   "source": [
    "![image.png](attachment:image.png)"
   ]
  },
  {
   "cell_type": "code",
   "execution_count": 2,
   "metadata": {},
   "outputs": [
    {
     "name": "stdout",
     "output_type": "stream",
     "text": [
      "[0.+0.j 1.+0.j 0.+0.j 0.+0.j]\n",
      "[[0.         0.70710678 0.         0.        ]\n",
      " [0.         0.         1.         0.        ]\n",
      " [0.         0.         0.         1.        ]\n",
      " [1.         0.70710678 0.         0.        ]]\n"
     ]
    }
   ],
   "source": [
    "def ShiftedState(U1, U2):\n",
    "    \"\"\"\n",
    "    Make a state B[d,i,j] = Σₐ U2[0,1,2,a]U1[a,4,5,6]\n",
    "    \"\"\"\n",
    "    return np.tensordot(U2.reshape(2,2,2,2),U1.reshape(2,2,2,2),(3,0))[...,0,0].reshape(4,2,2)\n",
    "\n",
    "\n",
    "def MixedTransfer(A, B):\n",
    "    contracted = np.tensordot(          # A[a,0i,1j]B'[a,2i,3j]\n",
    "                        A,              # first tensor  \n",
    "                        B.conj(),       # second tensor\n",
    "                        (0,0)\n",
    "                    )\n",
    "    return np.transpose(contracted, (0,2,1,3)).reshape(4,4)\n",
    "\n",
    "def State(U1, U2):\n",
    "    \"\"\"\n",
    "    Make a state A[d,i,j] = Σₐ U2[0,1,a,2]U1[3,a,4,5]\n",
    "    \"\"\"\n",
    "    return np.tensordot(\n",
    "        U2.reshape(2,2,2,2), \n",
    "        U1.reshape(2,2,2,2),\n",
    "        (2,1)\n",
    "    )[...,0,0].reshape(4,2,2)\n",
    "\n",
    " \n",
    "U2 = np.eye(4)\n",
    "U1 = np.eye(4)\n",
    "\n",
    "x = MixedTransfer(ShiftedState(U1, U2), ShiftedState(np.eye(4), np.eye(4)))\n",
    "\n",
    "η,v = eig(x)\n",
    "print(η)\n",
    "print(v)\n",
    "    "
   ]
  },
  {
   "attachments": {
    "image.png": {
     "image/png": "[encoded data removed]"
    }
   },
   "cell_type": "markdown",
   "metadata": {},
   "source": [
    "![image.png](attachment:image.png)"
   ]
  },
  {
   "cell_type": "code",
   "execution_count": 3,
   "metadata": {},
   "outputs": [],
   "source": [
    "def RightEnv(U1,U1_, M):\n",
    "    return np.einsum(\n",
    "        U1_[0,:].reshape(2,2), [0,1], \n",
    "        M,                     [1,2],\n",
    "        U1[:,0].reshape(2,2),  [3,2],\n",
    "        [3,0]\n",
    "    )"
   ]
  },
  {
   "cell_type": "code",
   "execution_count": 4,
   "metadata": {},
   "outputs": [
    {
     "data": {
      "text/plain": [
       "array([[0.70710678, 0.        ],\n",
       "       [0.        , 0.        ]])"
      ]
     },
     "execution_count": 4,
     "metadata": {},
     "output_type": "execute_result"
    }
   ],
   "source": [
    "U1 = np.eye(4)\n",
    "M = np.eye(2) / np.sqrt(2)\n",
    "\n",
    "RightEnv(U1, U1, M)"
   ]
  },
  {
   "cell_type": "code",
   "execution_count": 5,
   "metadata": {},
   "outputs": [],
   "source": [
    "def RightEnvironment(U1, U2, U1_, U2_):\n",
    "    \n",
    "    TM = MixedTransfer(\n",
    "        ShiftedState(U1, U2),\n",
    "        ShiftedState(U1_, U2_)\n",
    "    )\n",
    "    \n",
    "    η, v = eig(TM)\n",
    "    Mr = v[:,np.argmax(np.abs(η))].reshape(2,2)\n",
    "    \n",
    "    Re = RightEnv(U1, U1.conj().T, Mr)\n",
    "    \n",
    "    return Re / np.linalg.norm(Re)"
   ]
  },
  {
   "cell_type": "code",
   "execution_count": 6,
   "metadata": {},
   "outputs": [
    {
     "name": "stdout",
     "output_type": "stream",
     "text": [
      "[[1. 0.]\n",
      " [0. 0.]]\n"
     ]
    }
   ],
   "source": [
    "U1 = U2 = U1_ = U2_ = np.eye(4)\n",
    "print(RightEnvironment(U1,U2,U1_,U2_))"
   ]
  },
  {
   "cell_type": "code",
   "execution_count": 7,
   "metadata": {},
   "outputs": [],
   "source": [
    "def LeftEnv(U1, U2, U1_, U2_):\n",
    "    TM = MixedTransfer(\n",
    "        State(U1, U2),\n",
    "        State(U1_, U2_)\n",
    "    )\n",
    "    \n",
    "    η, v = eig(TM.T)\n",
    "    Ml = v[:,np.argmax(np.abs(η))].reshape(2,2)\n",
    "    \n",
    "    return Ml\n"
   ]
  },
  {
   "cell_type": "code",
   "execution_count": 8,
   "metadata": {},
   "outputs": [
    {
     "data": {
      "text/plain": [
       "array([[1., 0.],\n",
       "       [0., 0.]])"
      ]
     },
     "execution_count": 8,
     "metadata": {},
     "output_type": "execute_result"
    }
   ],
   "source": [
    "LeftEnv(*[np.eye(4)]*4)"
   ]
  },
  {
   "cell_type": "code",
   "execution_count": 12,
   "metadata": {},
   "outputs": [],
   "source": [
    "def Double(A):\n",
    "    \"\"\"\n",
    "    Return AA =Σₐ A[d0,i0,a]A[d1, a, j1]\n",
    "    \"\"\"\n",
    "    return np.transpose(np.tensordot(A,A,(2,1)), (0,2,1,3)).reshape(16,2,2)\n",
    "\n",
    "x0 = np.random.rand(30)\n",
    "U1, U2 = [U4(x0[:15]), U4(x0[15:])]\n",
    "\n",
    "def Overlap(U1, U2, U1_, U2_):\n",
    "    A = State(U1,U2)\n",
    "    A_ = State(U1_,U2_)\n",
    "\n",
    "    DMT = MixedTransfer(Double(A), Double(A_))\n",
    "\n",
    "    RE = RightEnvironment(U1, U2, U1_, U2_).reshape(4,)\n",
    "    LE = LeftEnv(U1, U2, U1_, U2_).reshape(4,)\n",
    "\n",
    "    Score = LE.T @ DMT @ RE\n",
    "\n",
    "    return -np.real(Score)\n",
    "\n",
    "def cost_func(p, U1, U2):\n",
    "    U1_, U2_ = U4(p[:15]), U4(p[15:])\n",
    "    return Overlap(U1, U2, U1_, U2_)\n",
    "\n",
    "res = minimize(cost_func, x0 = x0,args = (U1,U2), method = \"Nelder-Mead\")\n",
    "    \n",
    "    \n",
    "    "
   ]
  },
  {
   "cell_type": "code",
   "execution_count": 22,
   "metadata": {},
   "outputs": [
    {
     "name": "stdout",
     "output_type": "stream",
     "text": [
      "[[ 0.36436999+6.11797975e-25j -0.09256412-2.57398790e-01j]\n",
      " [-0.09256412+2.57398790e-01j  0.84710684-1.49094906e-24j]]\n",
      "-0.7349834528406427\n"
     ]
    }
   ],
   "source": [
    "U = unitary_group.rvs(4)\n",
    "print(RightEnvironment(*[U]*4))\n",
    "print(Overlap(*[U]*4))"
   ]
  },
  {
   "cell_type": "code",
   "execution_count": 15,
   "metadata": {},
   "outputs": [
    {
     "data": {
      "text/plain": [
       "array([ 0.39229928,  0.0048856 ,  2.09733577,  0.36886468, -1.32029123,\n",
       "       -0.851567  ,  0.17918258, -0.63921618,  0.56651008,  1.19021442,\n",
       "        0.15528996,  0.09341715,  0.0784685 ,  0.1907506 , -0.00508295,\n",
       "        0.43773499,  0.24563017,  0.22260694,  0.33648461,  0.05462223,\n",
       "       -0.48930131,  1.3640746 ,  0.68787361,  0.12287264,  1.35742926,\n",
       "       -1.06164355,  0.60685608, -0.35602494, -0.22646868,  0.43435452])"
      ]
     },
     "execution_count": 15,
     "metadata": {},
     "output_type": "execute_result"
    }
   ],
   "source": [
    "res.x"
   ]
  },
  {
   "cell_type": "code",
   "execution_count": null,
   "metadata": {},
   "outputs": [],
   "source": []
  }
 ],
 "metadata": {
  "kernelspec": {
   "display_name": "Python 3",
   "language": "python",
   "name": "python3"
  },
  "language_info": {
   "codemirror_mode": {
    "name": "ipython",
    "version": 3
   },
   "file_extension": ".py",
   "mimetype": "text/x-python",
   "name": "python",
   "nbconvert_exporter": "python",
   "pygments_lexer": "ipython3",
   "version": "3.7.6"
  },
  "toc": {
   "base_numbering": 1,
   "nav_menu": {},
   "number_sections": true,
   "sideBar": true,
   "skip_h1_title": false,
   "title_cell": "Table of Contents",
   "title_sidebar": "Contents",
   "toc_cell": false,
   "toc_position": {},
   "toc_section_display": true,
   "toc_window_display": false
  }
 },
 "nbformat": 4,
 "nbformat_minor": 4
}
