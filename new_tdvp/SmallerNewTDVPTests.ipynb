{
 "cells": [
  {
   "cell_type": "code",
   "execution_count": 1,
   "metadata": {},
   "outputs": [],
   "source": [
    "import numpy as np\n",
    "from scipy.stats import unitary_group\n",
    "from scipy.linalg import eig, expm\n",
    "from scipy.optimize import minimize\n",
    "from functools import reduce \n",
    "from xmps.spin import U4\n",
    "\n",
    "# tm_left:\n",
    "\"\"\"\n",
    "                   0      0      j\n",
    "                   | -U2- |      |\n",
    "A[i, σ1,σ2, j] =   |      | -U1- |\n",
    "                   |      |      |\n",
    "                   i      σ1      σ2\n",
    "                   \n",
    "\"\"\"\n",
    "\n",
    "# tm_right:\n",
    "\"\"\"\n",
    "                   i      0      0\n",
    "                   |      | -U2- |\n",
    "A[i, σ1,σ2, j] =   | -U1- |      |\n",
    "                   |      |      |\n",
    "                   σ1     σ2     j\n",
    "\"\"\"\n",
    "\n",
    "Z = np.array([\n",
    "    [1,0],\n",
    "    [0,-1]\n",
    "])\n",
    "\n",
    "X = np.array([\n",
    "    [0,1],\n",
    "    [1,0]\n",
    "])\n",
    "\n",
    "I = np.eye(2)\n",
    "\n",
    "def tensor(tensors):\n",
    "    return reduce(lambda t1,t2: np.kron(t1,t2), tensors)\n"
   ]
  },
  {
   "cell_type": "code",
   "execution_count": 4,
   "metadata": {},
   "outputs": [],
   "source": [
    "def state(U2,U1):\n",
    "    return np.einsum(\n",
    "        U1, [1,2,4,5],\n",
    "        U2, [0,4,6,7],\n",
    "        U2, [5,3,8,9],\n",
    "        [0,1,2,3,6,7,8,9]\n",
    "    )\n",
    "\n",
    "def tm_right(U2, U1):\n",
    "    \"\"\"\n",
    "    A[i,σ1,σ2,j] = Σα U1[σ1,σ2,i,α]U2[α,j,0,0]\n",
    "    \"\"\"\n",
    "    \n",
    "    return np.transpose(np.tensordot(\n",
    "        U1.reshape(2,2,2,2),\n",
    "        U2[:,0].reshape(2,2),\n",
    "        (3,0)\n",
    "    ),(2,0,1,3)).reshape(2,4,2)\n",
    "\n",
    "def tm_left(U2, U1):\n",
    "    \"\"\"\n",
    "    A[i,σ1,σ2,j] = Σα U1[σ1,σ2,α,j]U2[i,α,0,0]\n",
    "    \"\"\"\n",
    "    return np.transpose(np.tensordot(\n",
    "        U1.reshape(2,2,2,2),\n",
    "        U2[:,0].reshape(2,2),\n",
    "        (2,1)\n",
    "    ),(3,0,1,2)).reshape(2,4,2)\n",
    "\n",
    "def single_transfer_matrix(s, s̄):\n",
    "    s̄ = s̄.conj()\n",
    "    ss̄ = np.transpose(np.tensordot(s̄,s,(1,1)),(0,2,1,3)).reshape(4,4)\n",
    "    return ss̄\n",
    "\n",
    "def right_env(U2,U1,Ū2,Ū1):\n",
    "    alt_state = tm_right(U2, U1)\n",
    "    alt_state_bar = tm_right(Ū2, Ū1)\n",
    "    tm = single_transfer_matrix(alt_state, alt_state_bar)\n",
    "    η, v = eig(tm)\n",
    "    vr = v[:,np.argmax(np.abs(η))].reshape(2,2)\n",
    "    return vr, η\n",
    "\n",
    "def left_env(U2,U1,Ū2,Ū1):\n",
    "    alt_state = tm_left(U2, U1)\n",
    "    alt_state_bar = tm_left(Ū2, Ū1)\n",
    "    tm = single_transfer_matrix(alt_state, alt_state_bar)\n",
    "    η, v = eig(tm.T)\n",
    "    vl = v[:,np.argmax(np.abs(η))].reshape(2,2)\n",
    "    return vl, η\n",
    "\n",
    "def approx_adjusted_env(U2, Ū2, vr):\n",
    "    env = np.einsum(\n",
    "        Ū2.conj().T[0,:].reshape(2,2),[0,1],\n",
    "        vr.T,[1,3],\n",
    "        U2[:,0].reshape(2,2),[2,3],\n",
    "        )\n",
    "    return env\n",
    "\n",
    "\n",
    "def overlap(U2,U1,Ū2,Ū1, Ut):\n",
    "    s = state(U2.reshape(2,2,2,2), U1.reshape(2,2,2,2)).reshape(16,16)\n",
    "    s̄ = state(Ū2.reshape(2,2,2,2), Ū1.reshape(2,2,2,2)).reshape(16,16)\n",
    "    vl, _ = left_env(U2,U1,Ū2,Ū1)\n",
    "    vr, _ = right_env(U2,U1,Ū2,Ū1)\n",
    "    \n",
    "    env_norm = np.linalg.norm(approx_adjusted_env(U2, Ū2, vr))\n",
    "    \n",
    "    middle = tensor([vr,Ut,vl])\n",
    "\n",
    "    unitary = s̄.conj().T @ middle @ s\n",
    "    o = (2*np.abs(unitary[0,0]))**2\n",
    "    return o\n"
   ]
  },
  {
   "cell_type": "code",
   "execution_count": 263,
   "metadata": {},
   "outputs": [
    {
     "name": "stdout",
     "output_type": "stream",
     "text": [
      "-2.9210512643737094\n",
      "[-0.01877387 -0.20590864  0.02098783 -0.1883981   0.11633405 -0.09752193\n",
      "  0.32501491 -0.04169835 -0.33614282 -0.41622419 -0.28497304 -0.0907983\n",
      "  0.57979352 -0.1050277   0.22258675  1.23266039 -1.65533096  0.03279119\n",
      " -0.72338732  0.52322373  0.25580002 -0.20535053 -0.95739525  0.24381527\n",
      " -0.06254336  0.15657934  0.09159621 -0.07278437 -0.04082857  0.07348164]\n"
     ]
    },
    {
     "data": {
      "text/plain": [
       "-1.0000000000000004"
      ]
     },
     "execution_count": 263,
     "metadata": {},
     "output_type": "execute_result"
    }
   ],
   "source": [
    "def Hamiltonian(J, g):\n",
    "    ZZ = np.kron(Z,Z)\n",
    "    XX = 0.5*(np.kron(I,X) + np.kron(X,I))\n",
    "    return J*ZZ + g*XX\n",
    "\n",
    "def overlap(U2,U1, Ū2,Ū1, Ut):\n",
    "    s = state(U2.reshape(2,2,2,2), U1.reshape(2,2,2,2)).reshape(16,16)\n",
    "    s̄ = state(Ū2.reshape(2,2,2,2), Ū1.reshape(2,2,2,2)).reshape(16,16)\n",
    "    vl, _ = left_env(U2,U1,Ū2,Ū1)\n",
    "    vr, _ = right_env(U2,U1,Ū2,Ū1)\n",
    "    \n",
    "    middle = tensor([vr,Ut,vl])\n",
    "\n",
    "    unitary = s̄.conj().T @ middle @ s\n",
    "    o = (2*np.abs(unitary[0,0]))**2\n",
    "    return o\n",
    "\n",
    "def obj(param, U2,U1, Ut):\n",
    "    Ū2 = U4(param[:15])\n",
    "    Ū1 = U4(param[15:])\n",
    "    return -overlap(U2,U1, Ū2,Ū1, Ut)\n",
    "\n",
    "\n",
    "init_param = np.random.rand(30)\n",
    "U2 = U4(init_param[:15])\n",
    "U1 = U4(init_param[15:])\n",
    "Ut = expm(-1j * Hamiltonian(1,1) * 0.0)\n",
    "\n",
    "res = minimize(\n",
    "        obj,\n",
    "        x0 = init_param,\n",
    "        method = \"Nelder-Mead\",\n",
    "        args = (U2,U1,Ut)\n",
    "    )\n",
    "\n",
    "print(res.fun)\n",
    "print(res.x - init_param)\n",
    "\n",
    "obj(init_param, U2,U1,Ut)\n"
   ]
  },
  {
   "cell_type": "code",
   "execution_count": 266,
   "metadata": {},
   "outputs": [],
   "source": [
    "U2 = U4(init_param[:15])\n",
    "U1 = U4(init_param[15:])\n",
    "\n",
    "Ū2 = U4(res.x[:15])\n",
    "Ū1 = U4(res.x[15:])\n",
    "\n",
    "s = state(U2.reshape(2,2,2,2), U1.reshape(2,2,2,2)).reshape(16,16)\n",
    "s̄ = state(Ū2.reshape(2,2,2,2), Ū1.reshape(2,2,2,2)).reshape(16,16)\n",
    "vl, ηl = left_env(U2,U1,Ū2,Ū1)\n",
    "vr, ηr = right_env(U2,U1,Ū2,Ū1)\n",
    "#vr = rotate_to_hermitian(vr)/np.sign(vr[0,0])\n",
    "\n",
    "middle = tensor([vl ,Ut, vr])\n",
    "\n",
    "unitary = s.conj().T @ middle @ s\n",
    "o = (2*np.abs(unitary[0,0]))**2"
   ]
  },
  {
   "cell_type": "code",
   "execution_count": 267,
   "metadata": {},
   "outputs": [
    {
     "data": {
      "text/plain": [
       "-1.0000000000000004"
      ]
     },
     "execution_count": 267,
     "metadata": {},
     "output_type": "execute_result"
    }
   ],
   "source": [
    "obj(init_param, U2, U1, Ut)"
   ]
  },
  {
   "cell_type": "code",
   "execution_count": 265,
   "metadata": {},
   "outputs": [
    {
     "data": {
      "text/plain": [
       "(-0.0819978956177038+0.029979202990769796j)"
      ]
     },
     "execution_count": 265,
     "metadata": {},
     "output_type": "execute_result"
    }
   ],
   "source": [
    "(s̄.conj().T@s)[0,0]"
   ]
  },
  {
   "cell_type": "code",
   "execution_count": 208,
   "metadata": {},
   "outputs": [
    {
     "data": {
      "text/plain": [
       "(0.9844829541064992+0.06009181401984644j)"
      ]
     },
     "execution_count": 208,
     "metadata": {},
     "output_type": "execute_result"
    }
   ],
   "source": []
  },
  {
   "cell_type": "code",
   "execution_count": 272,
   "metadata": {},
   "outputs": [
    {
     "data": {
      "text/plain": [
       "1.0000000000000002"
      ]
     },
     "execution_count": 272,
     "metadata": {},
     "output_type": "execute_result"
    }
   ],
   "source": [
    "vr\n",
    "\n",
    "np.linalg.norm(rotate_to_hermitian(vr) / np.sign(vr[0,0]))"
   ]
  },
  {
   "cell_type": "code",
   "execution_count": 269,
   "metadata": {},
   "outputs": [
    {
     "name": "stdout",
     "output_type": "stream",
     "text": [
      "[[0.123+0.077j 0.107+0.085j 0.086+0.009j 0.126-0.011j]\n",
      " [0.313+0.111j 0.34 +0.115j 0.221-0.029j 0.252-0.037j]\n",
      " [0.069+0.143j 0.055+0.16j  0.071+0.044j 0.134+0.087j]\n",
      " [0.221+0.275j 0.275+0.347j 0.207+0.074j 0.29 +0.165j]]\n"
     ]
    }
   ],
   "source": [
    "alt_state = tm_left(U2, U1)\n",
    "alt_state_bar = tm_left(Ū2, Ū1)\n",
    "tm = single_transfer_matrix(alt_state, alt_state_bar)\n",
    "\n",
    "print(np.round(tm,3))"
   ]
  },
  {
   "cell_type": "code",
   "execution_count": 5,
   "metadata": {},
   "outputs": [
    {
     "data": {
      "text/plain": [
       "(array([[7.07106781e-01+3.64086364e-25j, 1.49649444e-16-5.33586109e-17j],\n",
       "        [1.49649437e-16+5.33586109e-17j, 7.07106781e-01+0.00000000e+00j]]),\n",
       " array([ 1.00000000e+00-1.21129717e-24j,  3.86780049e-17+3.44201082e-19j,\n",
       "        -2.83394782e-17-6.51952706e-17j, -6.66250213e-17+6.48510696e-17j]))"
      ]
     },
     "execution_count": 5,
     "metadata": {},
     "output_type": "execute_result"
    }
   ],
   "source": [
    "U2 = unitary_group.rvs(4)\n",
    "U1 = unitary_group.rvs(4)\n",
    "\n",
    "left_env(U2, U1, U2, U1)"
   ]
  },
  {
   "cell_type": "code",
   "execution_count": null,
   "metadata": {},
   "outputs": [],
   "source": []
  }
 ],
 "metadata": {
  "kernelspec": {
   "display_name": "Python 3",
   "language": "python",
   "name": "python3"
  },
  "language_info": {
   "codemirror_mode": {
    "name": "ipython",
    "version": 3
   },
   "file_extension": ".py",
   "mimetype": "text/x-python",
   "name": "python",
   "nbconvert_exporter": "python",
   "pygments_lexer": "ipython3",
   "version": "3.7.6"
  },
  "toc": {
   "base_numbering": 1,
   "nav_menu": {},
   "number_sections": true,
   "sideBar": true,
   "skip_h1_title": false,
   "title_cell": "Table of Contents",
   "title_sidebar": "Contents",
   "toc_cell": false,
   "toc_position": {},
   "toc_section_display": true,
   "toc_window_display": false
  }
 },
 "nbformat": 4,
 "nbformat_minor": 4
}
