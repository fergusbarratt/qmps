{
 "cells": [
  {
   "cell_type": "code",
   "execution_count": 7,
   "metadata": {},
   "outputs": [],
   "source": [
    "import numpy as np\n",
    "from scipy.stats import unitary_group\n",
    "from scipy.linalg import eig, expm\n",
    "from scipy.optimize import minimize\n",
    "from functools import reduce \n",
    "from xmps.spin import U4\n",
    "\n",
    "# state:\n",
    "\"\"\"\n",
    "                   0      0      j\n",
    "                   | -U2- |      |\n",
    "A[i, σ1,σ2, j] =   |      | -U1- |\n",
    "                   |      |      |\n",
    "                   i      σ1      σ2\n",
    "\"\"\"\n",
    "\n",
    "# alternate state:\n",
    "\"\"\"\n",
    "                   i      0      0\n",
    "                   |      | -U2- |\n",
    "A[i, σ1,σ2, j] =   | -U1- |      |\n",
    "                   |      |      |\n",
    "                   σ1     σ2     j\n",
    "\"\"\"\n",
    "\n",
    "Z = np.array([\n",
    "    [1,0],\n",
    "    [0,-1]\n",
    "])\n",
    "\n",
    "X = np.array([\n",
    "    [0,1],\n",
    "    [1,0]\n",
    "])\n",
    "\n",
    "I = np.eye(2)\n",
    "\n",
    "def tensor(tensors):\n",
    "    return reduce(lambda t1,t2: np.kron(t1,t2), tensors)\n",
    "\n"
   ]
  },
  {
   "cell_type": "code",
   "execution_count": 8,
   "metadata": {},
   "outputs": [],
   "source": [
    "def state(U2, U1):\n",
    "    \"\"\"\n",
    "    A[i,σ1,σ2,j] = Σα U1[σ1,σ2,α,j]U2[i,α,0,0]\n",
    "    \"\"\"\n",
    "    return np.transpose(np.tensordot(\n",
    "        U1.reshape(2,2,2,2),\n",
    "        U2[:,0].reshape(2,2),\n",
    "        (2,1)\n",
    "    ),(3,0,1,2)).reshape(2,4,2)\n",
    "    \n",
    "def check_state():\n",
    "    U2 = np.eye(4)\n",
    "    U1 = np.eye(4)\n",
    "    \n",
    "    s = state(U2,U1)\n",
    "        \n",
    "    assert s[0,0,0] == 1\n",
    "    assert s[0,1,0] == 0\n",
    "    assert s[0,0,1] == 0\n",
    "    assert s[0,2,1] == 0\n",
    "    assert s[0,2,0] == 0\n",
    "    assert s[1,0,0] == 0\n",
    "    assert s[1,1,1] == 0\n",
    "    assert s[0,1,1] == 1\n",
    "\n",
    "def alternate_state(U2, U1):\n",
    "    \"\"\"\n",
    "    A[i,σ1,σ2,j] = Σα U1[σ1,σ2,i,α]U2[α,j,0,0]\n",
    "    \"\"\"\n",
    "    \n",
    "    return np.transpose(np.tensordot(\n",
    "        U1.reshape(2,2,2,2),\n",
    "        U2[:,0].reshape(2,2),\n",
    "        (3,0)\n",
    "    ),(2,0,1,3)).reshape(2,4,2)\n",
    "\n",
    "def check_alternate_state():\n",
    "    U2 = np.eye(4)\n",
    "    U1 = np.eye(4)\n",
    "    \n",
    "    s = alternate_state(U2, U1)\n",
    "    \n",
    "    assert s[0,0,0] == 1\n",
    "    assert s[1,2,0] == 1\n",
    "    assert np.sum(s,(0,1,2)) == 2\n",
    "\n",
    "check_state()\n",
    "check_alternate_state()"
   ]
  },
  {
   "cell_type": "code",
   "execution_count": 9,
   "metadata": {},
   "outputs": [],
   "source": [
    "def invert_long(U2,U1):\n",
    "    \"\"\"\n",
    "    Aⁱ[i',σ1,σ2, j'] = U2ⁱ[0,0,i',α]U1[α,j',σ1,σ2]\n",
    "    \"\"\"\n",
    "    return np.transpose(np.tensordot(\n",
    "        U2.conj().T[0,:].reshape(2,2),\n",
    "        U1.conj().T.reshape(2,2,2,2),\n",
    "        (1,0)\n",
    "    ),(0,2,3,1)).reshape(2,4,2)\n",
    "\n",
    "def invert(s):\n",
    "    return s.conj()\n",
    "\n",
    "\n",
    "def check_inverse(s):\n",
    "\n",
    "    U1 = unitary_group.rvs(4)\n",
    "    U2 = unitary_group.rvs(4)\n",
    "\n",
    "    s  = state(U2,U1)\n",
    "    s_ = invert(s)\n",
    "    \n",
    "    ss_ = np.tensordot(s_.reshape(8,2),s.reshape(8,2),(0,0))\n",
    "    assert np.allclose(ss_, np.eye(2))\n",
    "    \n",
    "    ss_ = np.transpose(np.tensordot(s_,s,(1,1)),(0,2,1,3)).reshape(4,4)\n",
    "    print(np.round(ss_,3))\n",
    "    assert np.allclose(ss_[:,1], np.array([0,0,0,0]))\n",
    "    assert np.allclose(ss_[:,2], np.array([0,0,0,0]))\n",
    "\n"
   ]
  },
  {
   "cell_type": "code",
   "execution_count": 11,
   "metadata": {},
   "outputs": [],
   "source": [
    "def chain(s1,s2):\n",
    "    return np.tensordot(s1,s2,(-1,0))\n",
    "\n",
    "def single_transfer_matrix(s, s̄):\n",
    "    s̄ = s̄.conj()\n",
    "    ss̄ = np.transpose(np.tensordot(s̄,s,(1,1)),(0,2,1,3)).reshape(4,4)\n",
    "    return ss̄\n",
    "\n",
    "def double_transfer_matrix(s,s̄):\n",
    "    ss = chain(s,s).reshape(2,16,2)\n",
    "    s̄s̄ = chain(s̄,s̄).conj().reshape(2,16,2)\n",
    "    sss̄s̄ = np.transpose(np.tensordot(s̄s̄, ss, (1,1)), (0,2,1,3)).reshape(4,4)\n",
    "    return sss̄s̄\n",
    "\n",
    "    \n",
    "    \n",
    "    "
   ]
  },
  {
   "cell_type": "code",
   "execution_count": 12,
   "metadata": {},
   "outputs": [
    {
     "name": "stdout",
     "output_type": "stream",
     "text": [
      "Right Environment:\n",
      "[ 1.+0.j -0.+0.j  0.-0.j -0.+0.j]\n",
      "[[ 0.798+0.j     0.092+0.448j -0.01 +0.218j  0.108-0.44j ]\n",
      " [-0.073-0.358j -0.496+0.212j  0.673+0.j     0.543+0.j   ]\n",
      " [-0.073+0.358j  0.539+0.j    -0.67 -0.062j -0.482-0.251j]\n",
      " [ 0.31 +0.j    -0.092-0.448j  0.01 -0.218j -0.108+0.44j ]]\n",
      "\n",
      "\n",
      "Left Environment\n",
      "[ 1.-0.j -0.+0.j -0.-0.j  0.+0.j]\n",
      "[[ 0.707+0.j    -0.277+0.008j  0.302-0.262j -0.05 -0.064j]\n",
      " [ 0.   +0.j     0.474+0.23j   0.362-0.184j -0.169-0.35j ]\n",
      " [ 0.   -0.j     0.495-0.04j   0.736+0.j    -0.032+0.323j]\n",
      " [ 0.707+0.j     0.632+0.j    -0.306+0.201j  0.859+0.j   ]]\n"
     ]
    }
   ],
   "source": [
    "U1 = unitary_group.rvs(4)\n",
    "U2 = unitary_group.rvs(4)\n",
    "\n",
    "s  = state(U2,U1)\n",
    "\n",
    "η, v = eig(single_transfer_matrix(s,s))\n",
    "print(\"Right Environment:\")\n",
    "print(np.round(η,3))\n",
    "print(np.round(v,3))\n",
    "\n",
    "print(\"\\n\")\n",
    "print(\"Left Environment\")\n",
    "η, v = eig(single_transfer_matrix(s,s).T)\n",
    "print(np.round(η,3))\n",
    "print(np.round(v,3))"
   ]
  },
  {
   "cell_type": "code",
   "execution_count": 100,
   "metadata": {},
   "outputs": [
    {
     "data": {
      "text/plain": [
       "array([[ 0.676+0.j   , -0.   -0.j   , -0.   +0.j   ,  0.676+0.j   ],\n",
       "       [-0.193+0.418j,  0.   -0.j   ,  0.   -0.j   , -0.193+0.418j],\n",
       "       [-0.193-0.418j,  0.   +0.j   ,  0.   +0.j   , -0.193-0.418j],\n",
       "       [ 0.324+0.j   , -0.   -0.j   , -0.   +0.j   ,  0.324+0.j   ]])"
      ]
     },
     "execution_count": 100,
     "metadata": {},
     "output_type": "execute_result"
    }
   ],
   "source": [
    "np.round(single_transfer_matrix(s,s),3)"
   ]
  },
  {
   "cell_type": "code",
   "execution_count": 13,
   "metadata": {},
   "outputs": [
    {
     "name": "stdout",
     "output_type": "stream",
     "text": [
      "Identity Alternate Transfer Matrix:\n",
      "[[1. 0. 0. 0.]\n",
      " [0. 0. 0. 0.]\n",
      " [0. 0. 0. 0.]\n",
      " [1. 0. 0. 0.]]\n",
      "\n",
      "\n",
      "Right Environment Adjustment:\n",
      "[ 1.-0.j -0.-0.j -0.+0.j -0.+0.j]\n",
      "[[ 0.707+0.j     0.663+0.j     0.616+0.j    -0.197-0.645j]\n",
      " [-0.   +0.j     0.34 -0.107j  0.158+0.591j  0.688+0.j   ]\n",
      " [-0.   -0.j    -0.031-0.578j  0.416+0.088j -0.145-0.105j]\n",
      " [ 0.707+0.j    -0.278-0.142j -0.238+0.094j  0.172+0.106j]]\n"
     ]
    }
   ],
   "source": [
    "U2 = np.eye(4)\n",
    "U1 = np.eye(4)\n",
    "\n",
    "s = alternate_state(U2, U1)\n",
    "ss = single_transfer_matrix(s,s)\n",
    "print(\"Identity Alternate Transfer Matrix:\")\n",
    "print(ss)\n",
    "print(\"\\n\")\n",
    " \n",
    "U2 = unitary_group.rvs(4)\n",
    "U1 = unitary_group.rvs(4)\n",
    "\n",
    "s = alternate_state(U2,U1)\n",
    "ss = single_transfer_matrix(s, s)\n",
    "\n",
    "η, v = eig(ss)\n",
    "print(\"Right Environment Adjustment:\")\n",
    "print(np.round(η,3))\n",
    "print(np.round(v,3))"
   ]
  },
  {
   "cell_type": "code",
   "execution_count": 3,
   "metadata": {},
   "outputs": [
    {
     "ename": "NameError",
     "evalue": "name 'tensor' is not defined",
     "output_type": "error",
     "traceback": [
      "\u001b[0;31m---------------------------------------------------------------------------\u001b[0m",
      "\u001b[0;31mNameError\u001b[0m                                 Traceback (most recent call last)",
      "\u001b[0;32m<ipython-input-3-fbc5efb78bc4>\u001b[0m in \u001b[0;36m<module>\u001b[0;34m\u001b[0m\n\u001b[1;32m      4\u001b[0m     \u001b[0;32mreturn\u001b[0m \u001b[0mJ\u001b[0m\u001b[0;34m*\u001b[0m\u001b[0mZZ\u001b[0m \u001b[0;34m+\u001b[0m \u001b[0mg\u001b[0m\u001b[0;34m*\u001b[0m\u001b[0mXX\u001b[0m\u001b[0;34m\u001b[0m\u001b[0;34m\u001b[0m\u001b[0m\n\u001b[1;32m      5\u001b[0m \u001b[0;34m\u001b[0m\u001b[0m\n\u001b[0;32m----> 6\u001b[0;31m \u001b[0mHamiltonian\u001b[0m\u001b[0;34m(\u001b[0m\u001b[0;36m1\u001b[0m\u001b[0;34m,\u001b[0m\u001b[0;36m1\u001b[0m\u001b[0;34m)\u001b[0m\u001b[0;34m.\u001b[0m\u001b[0mshape\u001b[0m\u001b[0;34m\u001b[0m\u001b[0;34m\u001b[0m\u001b[0m\n\u001b[0m",
      "\u001b[0;32m<ipython-input-3-fbc5efb78bc4>\u001b[0m in \u001b[0;36mHamiltonian\u001b[0;34m(J, g)\u001b[0m\n\u001b[1;32m      1\u001b[0m \u001b[0;32mdef\u001b[0m \u001b[0mHamiltonian\u001b[0m\u001b[0;34m(\u001b[0m\u001b[0mJ\u001b[0m\u001b[0;34m,\u001b[0m \u001b[0mg\u001b[0m\u001b[0;34m)\u001b[0m\u001b[0;34m:\u001b[0m\u001b[0;34m\u001b[0m\u001b[0;34m\u001b[0m\u001b[0m\n\u001b[0;32m----> 2\u001b[0;31m     \u001b[0mZZ\u001b[0m \u001b[0;34m=\u001b[0m \u001b[0;36m0.5\u001b[0m\u001b[0;34m*\u001b[0m\u001b[0;34m(\u001b[0m\u001b[0mtensor\u001b[0m\u001b[0;34m(\u001b[0m\u001b[0;34m[\u001b[0m\u001b[0mZ\u001b[0m\u001b[0;34m,\u001b[0m\u001b[0mZ\u001b[0m\u001b[0;34m,\u001b[0m\u001b[0mI\u001b[0m\u001b[0;34m,\u001b[0m\u001b[0mI\u001b[0m\u001b[0;34m]\u001b[0m\u001b[0;34m)\u001b[0m \u001b[0;34m+\u001b[0m \u001b[0mtensor\u001b[0m\u001b[0;34m(\u001b[0m\u001b[0;34m[\u001b[0m\u001b[0mI\u001b[0m\u001b[0;34m,\u001b[0m\u001b[0mI\u001b[0m\u001b[0;34m,\u001b[0m\u001b[0mZ\u001b[0m\u001b[0;34m,\u001b[0m\u001b[0mZ\u001b[0m\u001b[0;34m]\u001b[0m\u001b[0;34m)\u001b[0m\u001b[0;34m)\u001b[0m \u001b[0;34m+\u001b[0m \u001b[0mtensor\u001b[0m\u001b[0;34m(\u001b[0m\u001b[0;34m[\u001b[0m\u001b[0mI\u001b[0m\u001b[0;34m,\u001b[0m\u001b[0mZ\u001b[0m\u001b[0;34m,\u001b[0m\u001b[0mZ\u001b[0m\u001b[0;34m,\u001b[0m\u001b[0mI\u001b[0m\u001b[0;34m]\u001b[0m\u001b[0;34m)\u001b[0m\u001b[0;34m\u001b[0m\u001b[0;34m\u001b[0m\u001b[0m\n\u001b[0m\u001b[1;32m      3\u001b[0m     \u001b[0mXX\u001b[0m \u001b[0;34m=\u001b[0m \u001b[0;36m0.5\u001b[0m\u001b[0;34m*\u001b[0m\u001b[0;34m(\u001b[0m\u001b[0mtensor\u001b[0m\u001b[0;34m(\u001b[0m\u001b[0;34m[\u001b[0m\u001b[0mX\u001b[0m\u001b[0;34m,\u001b[0m\u001b[0mI\u001b[0m\u001b[0;34m,\u001b[0m\u001b[0mI\u001b[0m\u001b[0;34m,\u001b[0m\u001b[0mI\u001b[0m\u001b[0;34m]\u001b[0m\u001b[0;34m)\u001b[0m \u001b[0;34m+\u001b[0m \u001b[0mtensor\u001b[0m\u001b[0;34m(\u001b[0m\u001b[0;34m[\u001b[0m\u001b[0mI\u001b[0m\u001b[0;34m,\u001b[0m\u001b[0mX\u001b[0m\u001b[0;34m,\u001b[0m\u001b[0mI\u001b[0m\u001b[0;34m,\u001b[0m\u001b[0mI\u001b[0m\u001b[0;34m]\u001b[0m\u001b[0;34m)\u001b[0m \u001b[0;34m+\u001b[0m \u001b[0mtensor\u001b[0m\u001b[0;34m(\u001b[0m\u001b[0;34m[\u001b[0m\u001b[0mI\u001b[0m\u001b[0;34m,\u001b[0m\u001b[0mI\u001b[0m\u001b[0;34m,\u001b[0m\u001b[0mX\u001b[0m\u001b[0;34m,\u001b[0m\u001b[0mI\u001b[0m\u001b[0;34m]\u001b[0m\u001b[0;34m)\u001b[0m \u001b[0;34m+\u001b[0m \u001b[0mtensor\u001b[0m\u001b[0;34m(\u001b[0m\u001b[0;34m[\u001b[0m\u001b[0mI\u001b[0m\u001b[0;34m,\u001b[0m\u001b[0mI\u001b[0m\u001b[0;34m,\u001b[0m\u001b[0mI\u001b[0m\u001b[0;34m,\u001b[0m\u001b[0mX\u001b[0m\u001b[0;34m]\u001b[0m\u001b[0;34m)\u001b[0m\u001b[0;34m)\u001b[0m\u001b[0;34m\u001b[0m\u001b[0;34m\u001b[0m\u001b[0m\n\u001b[1;32m      4\u001b[0m     \u001b[0;32mreturn\u001b[0m \u001b[0mJ\u001b[0m\u001b[0;34m*\u001b[0m\u001b[0mZZ\u001b[0m \u001b[0;34m+\u001b[0m \u001b[0mg\u001b[0m\u001b[0;34m*\u001b[0m\u001b[0mXX\u001b[0m\u001b[0;34m\u001b[0m\u001b[0;34m\u001b[0m\u001b[0m\n\u001b[1;32m      5\u001b[0m \u001b[0;34m\u001b[0m\u001b[0m\n",
      "\u001b[0;31mNameError\u001b[0m: name 'tensor' is not defined"
     ]
    }
   ],
   "source": [
    "def Hamiltonian(J, g):\n",
    "    ZZ = 0.5*(tensor([Z,Z,I,I]) + tensor([I,I,Z,Z])) + tensor([I,Z,Z,I])\n",
    "    XX = 0.5*(tensor([X,I,I,I]) + tensor([I,X,I,I]) + tensor([I,I,X,I]) + tensor([I,I,I,X]))\n",
    "    return J*ZZ + g*XX\n",
    "\n",
    "Hamiltonian(1,1).shape"
   ]
  },
  {
   "cell_type": "code",
   "execution_count": 14,
   "metadata": {},
   "outputs": [
    {
     "name": "stdout",
     "output_type": "stream",
     "text": [
      "Exact environment:\n",
      "\n",
      "[[ 0.646+0.j    -0.11 -0.438j]\n",
      " [-0.11 +0.438j  0.418+0.j   ]]\n",
      "Norm:  0.9999999999999999\n",
      "\n",
      "\n",
      "Approximate Environment with U2:\n",
      "\n",
      "[[ 0.607+0.j    -0.103-0.412j]\n",
      " [-0.103+0.412j  0.393+0.j   ]]\n",
      "Norm:  0.9399585248669571\n",
      "\n",
      "Renormalized:\n",
      "\n",
      "[[ 0.646+0.j    -0.11 -0.438j]\n",
      " [-0.11 +0.438j  0.418+0.j   ]]\n",
      "\n",
      "Approx Adjusted Env:\n",
      "\n",
      "[[ 0.429+0.j    -0.073-0.291j]\n",
      " [-0.073+0.291j  0.278+0.j   ]]\n",
      "Norm:  0.6646510469675294\n",
      "\n",
      "Renormalized:\n",
      "\n",
      "[[ 0.646+0.j    -0.11 -0.438j]\n",
      " [-0.11 +0.438j  0.418+0.j   ]]\n",
      "\n",
      "Left Environment:\n",
      "\n",
      "[[ 0.707+0.j -0.   +0.j]\n",
      " [-0.   -0.j  0.707+0.j]]\n"
     ]
    }
   ],
   "source": [
    "U2 = unitary_group.rvs(4)\n",
    "U1 = unitary_group.rvs(4)\n",
    "s = state(U2, U1)\n",
    "\n",
    "def exact_right_environment(s, s̄):\n",
    "    dt= single_transfer_matrix(s,s̄)\n",
    "    η, v = eig(dt)\n",
    "    vr = v[:,np.argmax(np.abs(η))].reshape(2,2)\n",
    "    return vr\n",
    "\n",
    "\n",
    "#################################\n",
    "# Exact environment calculation\n",
    "#################################\n",
    "exact_r = exact_right_environment(s, s)\n",
    "print(\"Exact environment:\\n\")\n",
    "print(np.round(exact_r,3))\n",
    "print(\"Norm: \", np.linalg.norm(exact_r))\n",
    "#################################\n",
    "print(\"\\n\")\n",
    "def approx_env(U2, Ū2):\n",
    "    return np.tensordot(\n",
    "        Ū2.conj().T[0,:].reshape(2,2),\n",
    "        U2[:,0].reshape(2,2), (1,1))\n",
    "\n",
    "#################################\n",
    "# Aprrox Environment Calc\n",
    "#################################\n",
    "approx_r = approx_env(U2, U2)\n",
    "print(\"Approximate Environment with U2:\\n\")\n",
    "print(np.round(approx_r, 3))\n",
    "print(\"Norm: \", np.linalg.norm(approx_r))\n",
    "print(\"\\nRenormalized:\\n\")\n",
    "print(np.round(approx_r / np.linalg.norm(approx_r),3))\n",
    "#################################\n",
    "\n",
    "def approx_adjusted_env(U2, U1, Ū2, Ū1):\n",
    "    alt_state = alternate_state(U2, U1)\n",
    "    alt_state_bar = alternate_state(Ū2, Ū1)\n",
    "    tm = single_transfer_matrix(alt_state, alt_state_bar)\n",
    "    η, v = eig(tm)\n",
    "    vr = v[:,np.argmax(np.abs(η))].reshape(2,2)\n",
    "    \n",
    "    env = np.einsum(\n",
    "        U2.conj().T[0,:].reshape(2,2),[0,1],\n",
    "        vr,[1,3],\n",
    "        U2[:,0].reshape(2,2),[2,3],\n",
    "        )\n",
    "    \n",
    "    return env\n",
    "\n",
    "#################################\n",
    "# Approx Adjusted Env\n",
    "#################################\n",
    "approx_adj_r = approx_adjusted_env(U2, U1, U2, U1)\n",
    "print(\"\\nApprox Adjusted Env:\\n\")\n",
    "print(np.round(approx_adj_r,3))\n",
    "print(\"Norm: \", np.linalg.norm(approx_adj_r))\n",
    "print(\"\\nRenormalized:\\n\")\n",
    "print(np.round(approx_adj_r / np.linalg.norm(approx_adj_r),3))\n",
    "#################################\n",
    "\n",
    "def exact_left_environment(s, s̄):\n",
    "    tm = single_transfer_matrix(s,s̄)\n",
    "    η, v = eig(tm.T)\n",
    "    vl = v[:,np.argmax(np.abs(η))].reshape(2,2)\n",
    "    return vl\n",
    "\n",
    "#################################\n",
    "# Left Environment\n",
    "#################################\n",
    "\n",
    "env_l = exact_left_environment(s,s)\n",
    "print(\"\\nLeft Environment:\\n\")\n",
    "print(np.round(env_l,3))"
   ]
  },
  {
   "cell_type": "code",
   "execution_count": 307,
   "metadata": {},
   "outputs": [
    {
     "name": "stdout",
     "output_type": "stream",
     "text": [
      "Original:  -0.7564956001370454\n",
      "Optimized:  -0.9322555089864284\n"
     ]
    }
   ],
   "source": [
    "init_param = np.random.rand(30)\n",
    "U2, U1 = U4(init_param[:15]), U4(init_param[15:])\n",
    "s = state(U2,U1)\n",
    "\n",
    "Ut = expm(-1j * 0.00 * Hamiltonian(1,1))\n",
    "\n",
    "def obj(param, s, Ut):\n",
    "    ss = chain(s,s).reshape(2,16,2)\n",
    "    \n",
    "    Ū2, Ū1 = U4(param[:15]), U4(param[15:])\n",
    "    s̄ = state(Ū2,Ū1)\n",
    "    \n",
    "    s̄s̄ = chain(s̄,s̄).reshape(2,16,2)\n",
    "    \n",
    "    exact_r = exact_right_environment(s,s̄)\n",
    "    # exact_r = approx_env(U2, Ū2)\n",
    "    # exact_r = approx_adjusted_env(U2, U1, Ū2, Ū1)\n",
    "    exact_l = exact_left_environment(s,s̄)\n",
    "    \n",
    "    overlap = np.einsum(\n",
    "        s̄s̄.conj(), [3,1,5],\n",
    "        Ut,        [1,4],\n",
    "        exact_r,   [5,2],\n",
    "        exact_l,   [3,0],\n",
    "        ss,        [0,4,2]\n",
    "    )\n",
    "    \n",
    "    return -np.abs(overlap)\n",
    "\n",
    "res = minimize(\n",
    "    obj,\n",
    "    x0 = init_param,\n",
    "    method = \"Nelder-Mead\",\n",
    "    args = (s, Ut)\n",
    ")\n",
    "print(\"Original: \", obj(init_param, s, Ut))\n",
    "print(\"Optimized: \", res.fun)"
   ]
  },
  {
   "cell_type": "code",
   "execution_count": 294,
   "metadata": {},
   "outputs": [
    {
     "data": {
      "text/plain": [
       "array([-0.07800775,  0.23163819,  0.64348245, -0.01022623, -0.12585477,\n",
       "        0.9366325 ,  0.12059929, -0.17741952, -0.40058811, -0.61839636,\n",
       "        0.00236051,  0.14295287, -0.22094584,  0.29116078,  0.06966903,\n",
       "        0.02042086,  0.14549394, -0.22038156, -0.81845872, -0.14689175,\n",
       "       -0.57151976, -0.7151446 , -0.1592956 , -0.55012741, -1.04393014,\n",
       "        0.26655502,  0.19117144,  0.09925475,  0.24383599,  0.27959986])"
      ]
     },
     "execution_count": 294,
     "metadata": {},
     "output_type": "execute_result"
    }
   ],
   "source": [
    "res.x - init_param"
   ]
  },
  {
   "cell_type": "code",
   "execution_count": 301,
   "metadata": {},
   "outputs": [
    {
     "data": {
      "text/plain": [
       "-0.5"
      ]
     },
     "execution_count": 301,
     "metadata": {},
     "output_type": "execute_result"
    }
   ],
   "source": [
    "obj(init_param, s, Ut)"
   ]
  },
  {
   "cell_type": "code",
   "execution_count": null,
   "metadata": {},
   "outputs": [],
   "source": []
  }
 ],
 "metadata": {
  "kernelspec": {
   "display_name": "Python 3",
   "language": "python",
   "name": "python3"
  },
  "language_info": {
   "codemirror_mode": {
    "name": "ipython",
    "version": 3
   },
   "file_extension": ".py",
   "mimetype": "text/x-python",
   "name": "python",
   "nbconvert_exporter": "python",
   "pygments_lexer": "ipython3",
   "version": "3.7.6"
  },
  "toc": {
   "base_numbering": 1,
   "nav_menu": {},
   "number_sections": true,
   "sideBar": true,
   "skip_h1_title": false,
   "title_cell": "Table of Contents",
   "title_sidebar": "Contents",
   "toc_cell": false,
   "toc_position": {},
   "toc_section_display": true,
   "toc_window_display": false
  }
 },
 "nbformat": 4,
 "nbformat_minor": 4
}
