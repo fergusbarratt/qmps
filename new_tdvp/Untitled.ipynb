{
 "cells": [
  {
   "cell_type": "code",
   "execution_count": 16,
   "metadata": {},
   "outputs": [
    {
     "name": "stdout",
     "output_type": "stream",
     "text": [
      "[[[0.+0.j 0.+0.j]\n",
      "  [0.+0.j 0.+0.j]]\n",
      "\n",
      " [[0.+0.j 0.+0.j]\n",
      "  [0.+0.j 0.+0.j]]\n",
      "\n",
      " [[0.+0.j 0.+0.j]\n",
      "  [0.+0.j 0.+0.j]]\n",
      "\n",
      " [[0.+0.j 0.+0.j]\n",
      "  [0.+0.j 0.+0.j]]]\n"
     ]
    }
   ],
   "source": [
    "import numpy as np\n",
    "from functools import reduce\n",
    "from scipy.stats import unitary_group\n",
    "\n",
    "def depth3tensor(U3,U2,U1):\n",
    "    \"\"\"\n",
    "    Produce a tensor A[(σ1σ2),(i0i1),(j0j1)]:\n",
    "    A[(σ1σ2),(i0i1),(j0j1)] = Σαβ U1[σ1, σ2, α, j1]U2[i1,α,β,j0]U3[i0,β,0,0]  \n",
    "               Index Number =        0   1      2     3      4     5   6  7\n",
    "    \"\"\"\n",
    "    temp = np.tensordot(\n",
    "        U2.reshape(2,2,2,2),\n",
    "        U3.reshape(2,2,2,2),\n",
    "        [2,1]\n",
    "    )\n",
    "    \n",
    "    A = np.tensordot(\n",
    "        U1.reshape(2,2,2,2),\n",
    "        temp,\n",
    "        [2,1]\n",
    "    ).transpose([0,1,5,3,4,2,6,7]).reshape(4,4,4,4)[...,0]\n",
    "    \n",
    "    return A\n",
    "\n",
    "# U5,U4,U3,U2,U1... = U4U5, U3U4, \n",
    "def depthNtensor(N_Us):\n",
    "    # depth N\n",
    "    N = len(N_Us)\n",
    "    N_Us = map(lambda a: a.reshape(2,2,2,2), N_Us)\n",
    "    # number indices after contraction\n",
    "    ni = 2+2*N\n",
    "    \n",
    "    # bond dimension\n",
    "    d = 2**(N - 1)\n",
    "    \n",
    "    # corresponds to the iₐ indices - reversed list of odd indices between 3 and ni-3 inclusive \n",
    "    i_indices = [i for i in reversed(range(3,ni-2,2))]\n",
    "    \n",
    "    # corresponds to the jₐ indices - reversed list of even indices between 2 and ni-4 inclusive\n",
    "    j_indices = [j for j in reversed(range(2,ni-3,2))]\n",
    "    \n",
    "    # add the physical indices, [0,1], to the auxillary indices, and then the indices set to 0s\n",
    "    indices = [0,1] + i_indices + j_indices + [ni-2, ni-1]\n",
    "    \n",
    "    # Tensordot all the tensors together in the order:\n",
    "    #    1: UN-1, UN = A1\n",
    "    #    2: UN-2, A1 = A2\n",
    "    #    3  UN-3, A2 = A3, ...\n",
    "    # Then reshape into the index order specified by indices\n",
    "    A = reduce(lambda a,b: np.tensordot(b, a, [2,1]), N_Us).transpose(*indices).reshape(4,d,d,4)[...,0]\n",
    "    \n",
    "    return A\n",
    "    \n",
    "\n",
    "U1 = unitary_group.rvs(4)\n",
    "U2 = unitary_group.rvs(4)\n",
    "U3 = unitary_group.rvs(4)\n",
    "\n",
    "def tensor(U2, U1):\n",
    "    \"\"\"\n",
    "    Produce a tensor A[(σ1σ2),i,j]:\n",
    "    \n",
    "    A[σ1σ2,i,j] = Σα U1[σ1,σ2,α,j]U2[i,α,0,0]\n",
    "    \"\"\"\n",
    "    \n",
    "    return np.transpose(np.tensordot(\n",
    "        U1.reshape(2,2,2,2),\n",
    "        U2[:,0].reshape(2,2),\n",
    "        (2,1)\n",
    "    ),(0,1,3,2)).reshape(4,2,2)\n",
    "\n",
    "\n",
    "print(tensor(U2,U1) - depthNtensor([U2,U1]))"
   ]
  },
  {
   "cell_type": "code",
   "execution_count": 7,
   "metadata": {},
   "outputs": [
    {
     "data": {
      "text/plain": [
       "[2, 4, 6]"
      ]
     },
     "execution_count": 7,
     "metadata": {},
     "output_type": "execute_result"
    }
   ],
   "source": [
    "list(range(2,10-3,2))"
   ]
  },
  {
   "cell_type": "code",
   "execution_count": null,
   "metadata": {},
   "outputs": [],
   "source": []
  }
 ],
 "metadata": {
  "kernelspec": {
   "display_name": "Python 3",
   "language": "python",
   "name": "python3"
  },
  "language_info": {
   "codemirror_mode": {
    "name": "ipython",
    "version": 3
   },
   "file_extension": ".py",
   "mimetype": "text/x-python",
   "name": "python",
   "nbconvert_exporter": "python",
   "pygments_lexer": "ipython3",
   "version": "3.7.6"
  },
  "toc": {
   "base_numbering": 1,
   "nav_menu": {},
   "number_sections": true,
   "sideBar": true,
   "skip_h1_title": false,
   "title_cell": "Table of Contents",
   "title_sidebar": "Contents",
   "toc_cell": false,
   "toc_position": {},
   "toc_section_display": true,
   "toc_window_display": false
  }
 },
 "nbformat": 4,
 "nbformat_minor": 4
}
