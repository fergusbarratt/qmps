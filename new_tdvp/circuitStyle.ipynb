{
 "cells": [
  {
   "cell_type": "code",
   "execution_count": 9,
   "metadata": {},
   "outputs": [],
   "source": [
    "import numpy as np\n",
    "from scipy.stats import unitary_group\n",
    "from scipy.linalg import eig, expm\n",
    "from scipy.optimize import minimize\n",
    "from functools import reduce \n",
    "from xmps.spin import U4\n",
    "from xmps.tensor import rotate_to_hermitian\n",
    "\n",
    "# tm_left:\n",
    "\"\"\"\n",
    "                   0      0      j\n",
    "                   | -U2- |      |\n",
    "A[i, σ1,σ2, j] =   |      | -U1- |\n",
    "                   |      |      |\n",
    "                   i      σ1      σ2\n",
    "                   \n",
    "\"\"\"\n",
    "\n",
    "# tm_right:\n",
    "\"\"\"\n",
    "                   i      0      0\n",
    "                   |      | -U2- |\n",
    "A[i, σ1,σ2, j] =   | -U1- |      |\n",
    "                   |      |      |\n",
    "                   σ1     σ2     j\n",
    "\"\"\"\n",
    "\n",
    "Z = np.array([\n",
    "    [1,0],\n",
    "    [0,-1]\n",
    "])\n",
    "\n",
    "X = np.array([\n",
    "    [0,1],\n",
    "    [1,0]\n",
    "])\n",
    "\n",
    "\n",
    "I = np.eye(2)\n",
    "\n",
    "def tensor(tensors):\n",
    "    return reduce(lambda t1,t2: np.kron(t1,t2), tensors)\n",
    "\n",
    "# Entangling Gate HcX to put the right environment directly in\n",
    "E = np.array([\n",
    "    [1, 0, 0, 1],\n",
    "    [0, 1, 1, 0],\n",
    "    [0, 1, -1,0],\n",
    "    [1, 0, 0,-1]\n",
    "]).reshape(2,2,2,2) / np.sqrt(2)"
   ]
  },
  {
   "cell_type": "code",
   "execution_count": 20,
   "metadata": {},
   "outputs": [
    {
     "name": "stdout",
     "output_type": "stream",
     "text": [
      "0.5852026780464697\n"
     ]
    }
   ],
   "source": [
    "def state(U2,U1):\n",
    "    return np.einsum(\n",
    "        U1, [1,2,4,5],\n",
    "        U2, [0,4,6,7],\n",
    "        E, [5,3,8,9],\n",
    "        [0,1,2,3,6,7,8,9]\n",
    "    )\n",
    "\n",
    "def Map(U2, U1):\n",
    "    \"\"\"\n",
    "    A[i,σ1,σ2,j] = Σα U1[σ1,σ2,α,j]U2[i,α,0,0]\n",
    "    \"\"\"\n",
    "    return np.transpose(np.tensordot(\n",
    "        U1.reshape(2,2,2,2),\n",
    "        U2[:,0].reshape(2,2),\n",
    "        (2,1)\n",
    "    ),(3,0,1,2)).reshape(2,4,2)\n",
    "\n",
    "def single_transfer_matrix(s, s̄):\n",
    "    s̄ = s̄.conj()\n",
    "    ss̄ = np.transpose(np.tensordot(s̄,s,(1,1)),(0,2,1,3)).reshape(4,4)\n",
    "    return ss̄\n",
    "\n",
    "def right_env(U2,U1,Ū2,Ū1):\n",
    "    s = Map(U2, U1)\n",
    "    s̄ = Map(Ū2, Ū1)\n",
    "    tm = single_transfer_matrix(s, s̄)\n",
    "    η, v = eig(tm)\n",
    "    vr = v[:,np.argmax(np.abs(η))].reshape(2,2)\n",
    "    vr = rotate_to_hermitian(vr) / np.sign(vr[0,0])\n",
    "    return vr, η\n",
    "\n",
    "def left_env(U2,U1,Ū2,Ū1):\n",
    "    s = Map(U2, U1)\n",
    "    s̄ = Map(Ū2, Ū1)\n",
    "    tm = single_transfer_matrix(s, s̄)\n",
    "    η, v = eig(tm.T)\n",
    "    vl = v[:,np.argmax(np.abs(η))].reshape(2,2)\n",
    "    vl = rotate_to_hermitian(vl) / np.sign(vl[0,0])\n",
    "    return vl, η\n",
    "\n",
    "def overlap(U2,U1,Ū2,Ū1, Ut):\n",
    "    s = state(U2.reshape(2,2,2,2), U1.reshape(2,2,2,2)).reshape(16,16)\n",
    "    s̄ = state(Ū2.reshape(2,2,2,2), Ū1.reshape(2,2,2,2)).reshape(16,16)\n",
    "    vl, _ = left_env(U2,U1,Ū2,Ū1)\n",
    "    vr, _ = right_env(U2,U1,Ū2,Ū1)\n",
    "    \n",
    "    middle = tensor([vl,Ut,vr])\n",
    "    \n",
    "    unitary = s̄.conj().T @ middle @ s\n",
    "    o = (2*np.abs(unitary[0,0]))**2\n",
    "    return o\n",
    "\n",
    "U2 = unitary_group.rvs(4)\n",
    "U1 = unitary_group.rvs(4)\n",
    "\n",
    "s = state(U2.reshape(2,2,2,2), U1.reshape(2,2,2,2)).reshape(16,16)\n",
    "assert np.allclose(s @ s.conj().T, np.eye(16))\n",
    "\n",
    "o = overlap(U2, U1, U2, U1, np.eye(4))\n",
    "print(o)"
   ]
  },
  {
   "cell_type": "code",
   "execution_count": 21,
   "metadata": {},
   "outputs": [
    {
     "data": {
      "text/plain": [
       "(array([[ 0.5702766 +0.00000000e+00j, -0.43357706+1.36191630e-01j],\n",
       "        [-0.43357705-1.36191630e-01j,  0.51157614-7.95521652e-25j]]),\n",
       " array([ 1.00000000e+00+1.38642701e-24j, -8.52176614e-14+1.06914537e-12j,\n",
       "         8.52516132e-14-1.06911516e-12j, -4.27268806e-17-3.02172034e-17j]))"
      ]
     },
     "execution_count": 21,
     "metadata": {},
     "output_type": "execute_result"
    }
   ],
   "source": [
    "right_env(U2, U1, U2, U1)"
   ]
  },
  {
   "cell_type": "code",
   "execution_count": 22,
   "metadata": {},
   "outputs": [
    {
     "data": {
      "text/plain": [
       "(array([[ 7.07106781e-01+0.00000000e+00j, -9.32242394e-17-1.22050156e-16j],\n",
       "        [-9.32242397e-17+1.22050156e-16j,  7.07106781e-01+7.21292788e-25j]]),\n",
       " array([ 1.00000000e+00-1.95894453e-25j,  4.92057152e-17+6.24227575e-17j,\n",
       "        -2.63016617e-17-4.76042718e-17j, -1.17190495e-16-1.48184858e-17j]))"
      ]
     },
     "execution_count": 22,
     "metadata": {},
     "output_type": "execute_result"
    }
   ],
   "source": [
    "left_env(U2, U1, U2, U1)"
   ]
  },
  {
   "cell_type": "code",
   "execution_count": null,
   "metadata": {},
   "outputs": [],
   "source": []
  }
 ],
 "metadata": {
  "kernelspec": {
   "display_name": "Python 3",
   "language": "python",
   "name": "python3"
  },
  "language_info": {
   "codemirror_mode": {
    "name": "ipython",
    "version": 3
   },
   "file_extension": ".py",
   "mimetype": "text/x-python",
   "name": "python",
   "nbconvert_exporter": "python",
   "pygments_lexer": "ipython3",
   "version": "3.7.6"
  },
  "toc": {
   "base_numbering": 1,
   "nav_menu": {},
   "number_sections": true,
   "sideBar": true,
   "skip_h1_title": false,
   "title_cell": "Table of Contents",
   "title_sidebar": "Contents",
   "toc_cell": false,
   "toc_position": {},
   "toc_section_display": true,
   "toc_window_display": false
  }
 },
 "nbformat": 4,
 "nbformat_minor": 4
}
