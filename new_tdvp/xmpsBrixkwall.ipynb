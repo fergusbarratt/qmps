{
 "cells": [
  {
   "cell_type": "code",
   "execution_count": 1,
   "metadata": {},
   "outputs": [
    {
     "name": "stdout",
     "output_type": "stream",
     "text": [
      "Exact Right Environment:\n",
      "[[ 0.91826722-5.55111512e-17j -0.07082275+2.96294245e-01j]\n",
      " [ 0.01051064-2.34856399e-01j  0.08523168+3.80359073e-02j]]\n",
      "\n",
      "\n",
      "Adjusted Right Environment:\n",
      "[[ 0.91826722+8.27954081e-17j -0.07082275+2.96294245e-01j]\n",
      " [ 0.01051064-2.34856399e-01j  0.08523168+3.80359073e-02j]]\n",
      "\n",
      "We can see that the adjusted trivial environment gives the correct answer\n"
     ]
    }
   ],
   "source": [
    "from xmps.iMPS import iMPS, Map\n",
    "import numpy as np\n",
    "from scipy.stats import unitary_group\n",
    "from scipy.linalg import eig, expm, null_space\n",
    "from scipy.optimize import minimize\n",
    "from functools import reduce \n",
    "from xmps.spin import U4\n",
    "from xmps.tensor import rotate_to_hermitian\n",
    "from qmps.tools import environment_to_unitary\n",
    "from qmps.ground_state import Hamiltonian\n",
    "from itertools import chain\n",
    "import pickle\n",
    "import matplotlib.pyplot as plt\n",
    "\n",
    "# tensor:\n",
    "\"\"\"\n",
    "                   0      0      j\n",
    "                   | -U2- |      |\n",
    "A[i, σ1,σ2, j] =   |      | -U1- |\n",
    "                   |      |      |\n",
    "                   i      σ1      σ2\n",
    "                   \n",
    "\"\"\"\n",
    "\n",
    "# alternate_tensor:\n",
    "\"\"\"\n",
    "                   i      0      0\n",
    "                   |      | -U2- |\n",
    "A[i, σ1,σ2, j] =   | -U1- |      |\n",
    "                   |      |      |\n",
    "                   σ1     σ2     j\n",
    "\"\"\"\n",
    "\n",
    "Z = np.array([\n",
    "    [1,0],\n",
    "    [0,-1]\n",
    "])\n",
    "\n",
    "X = np.array([\n",
    "    [0,1],\n",
    "    [1,0]\n",
    "])\n",
    "\n",
    "I = np.eye(2)\n",
    "\n",
    "def tensor_prod(tensors):\n",
    "    return reduce(lambda t1,t2: np.kron(t1,t2), tensors)\n",
    "\n",
    "# Find the exact right environment:\n",
    "def merge(A, B):\n",
    "    # -A- -B-  ->  -A-B-\n",
    "    #  |   |        ||\n",
    "    return np.tensordot(A, B, [2, 1]).transpose([0, 2, 1, 3]).reshape(A.shape[0]**2, A.shape[1], A.shape[2])\n",
    "\n",
    "\n",
    "def tensor(U2, U1):\n",
    "    \"\"\"\n",
    "    Produce a depth 2 tensor A[(σ1σ2),i,j]:\n",
    "    \n",
    "    A[σ1σ2,i,j] = Σα U1[σ1,σ2,α,j]U2[i,α,0,0]\n",
    "    \"\"\"\n",
    "    \n",
    "    return depthNtensor([U2,U1])\n",
    "\n",
    " \n",
    "def depthNtensor(N_Us):\n",
    "    # depth N\n",
    "    N = len(N_Us)\n",
    "    N_Us = map(lambda a: a.reshape(2,2,2,2), N_Us)\n",
    "    # number indices after contraction\n",
    "    ni = 2+2*N\n",
    "    \n",
    "    # bond dimension\n",
    "    d = 2**(N - 1)\n",
    "    \n",
    "    # corresponds to the iₐ indices - reversed list of odd indices between 3 and ni-3 inclusive \n",
    "    i_indices = [i for i in reversed(range(3,ni-2,2))]\n",
    "    \n",
    "    # corresponds to the jₐ indices - reversed list of even indices between 2 and ni-4 inclusive\n",
    "    j_indices = [j for j in reversed(range(2,ni-3,2))]\n",
    "    \n",
    "    # add the physical indices, [0,1], to the auxillary indices, and then the indices set to 0s\n",
    "    indices = [0,1] + i_indices + j_indices + [ni-2, ni-1]\n",
    "    \n",
    "    # Tensordot all the tensors together in the order:\n",
    "    #    1: UN-1, UN = A1\n",
    "    #    2: UN-2, A1 = A2\n",
    "    #    3  UN-3, A2 = A3, ...\n",
    "    # Then reshape into the index order specified by indices\n",
    "    A = reduce(lambda a,b: np.tensordot(b, a, [2,1]), N_Us).transpose(*indices).reshape(4,d,d,4)[...,0]\n",
    "    \n",
    "    return A\n",
    "\n",
    "\n",
    "def RightEnv(Us, Ūs, Ut):\n",
    "    \"\"\"\n",
    "    Return the exact right environment, given a set of Us = [UN,UN-1,...] and Ūs = [ŪN, ŪN-1,...]\n",
    "    \"\"\"\n",
    "    A1 = depthNtensor(Us)\n",
    "    A2 = depthNtensor(Ūs)\n",
    "    tm = Map(np.tensordot(Ut, merge(A1, A1), [1,0]), merge(A2,A2))\n",
    "    ηr, r = tm.right_fixed_point()\n",
    "    return ηr, r\n",
    "\n",
    "\n",
    "def exact_right_env(U2,U1,Ū2,Ū1, Ut):\n",
    "    return RightEnv([U2, U1], [Ū2, Ū1], Ut)\n",
    "\n",
    "\n",
    "# Compare to the right environment that you get from trivial with adjustment:\n",
    "\n",
    "def alternate_tensor(U2, U1):\n",
    "    \"\"\"\n",
    "    Produce a tensor A[(σ1σ2),i,j]:\n",
    "    \n",
    "    A[(σ1σ2),i,j] = Σα U1[σ1,σ2,i,α]U2[α,j,0,0]\n",
    "    \"\"\"\n",
    "    \n",
    "    return np.tensordot(\n",
    "        U1.reshape(2,2,2,2),\n",
    "        U2[:,0].reshape(2,2),\n",
    "        (3,0)).reshape(4,2,2)\n",
    "\n",
    "def adjust_trivial_environment(U2,Ū2,mr):\n",
    "    \"\"\"\n",
    "    Adjust the trivial environment with a matrix, mr:\n",
    "    \n",
    "    0      0\n",
    "    | -U2- |\n",
    "    |(3)   |\n",
    "    i      |(2)\n",
    "           mr\n",
    "    j(0)   |(1)\n",
    "    |      |\n",
    "    | -Ū2- |\n",
    "    0      0\n",
    "    \n",
    "    It is not clear why we have to transpose the mr matrix.\n",
    "    \"\"\"\n",
    "    Rᵢⱼ = np.einsum(\n",
    "        Ū2.conj().T[0,:].reshape(2,2), [0,1],  \n",
    "        mr.T,                          [1,2],\n",
    "        U2[:,0].reshape(2,2),          [3,2],\n",
    "        [3,0])\n",
    "    \n",
    "    \n",
    "    return rotate_to_hermitian(Rᵢⱼ) /(np.sign(Rᵢⱼ[0,0]) * np.linalg.norm(Rᵢⱼ))\n",
    "\n",
    "def right_env(U2,U1,Ū2,Ū1):\n",
    "    A1 = alternate_tensor(U2,U1)\n",
    "    A2 = alternate_tensor(Ū2,Ū1)\n",
    "    \n",
    "    alt_tm = Map(A1,A2)\n",
    "    \n",
    "    η, mr = alt_tm.right_fixed_point()\n",
    "    \n",
    "    R = adjust_trivial_environment(U2,Ū2,mr)\n",
    "    return R\n",
    "\n",
    "def put_env_on_left_site(q, ret_n=False):\n",
    "    # Take a matrix q (2x2) and create U such that \n",
    "    # (right 0-|---|--0\n",
    "    #          | u |        =  q_{ij}\n",
    "    # (left) i-|---|--j \n",
    "    q = q.T\n",
    "    a, b, c, d = q.reshape(-1)\n",
    "    n = np.sqrt(np.abs(a)**2+ np.abs(c)**2+ np.abs(b)**2+ np.abs(d)**2)\n",
    "    guess = np.array([[a, c.conj(), b, d.conj()], [c, -a.conj(), d, -b.conj()]])/n\n",
    "    orth = null_space(guess).conj().T\n",
    "    A = np.concatenate([guess, orth], axis=0)\n",
    "    A = cirq.unitary(cirq.SWAP)@A\n",
    "    if ret_n:\n",
    "        return A, n\n",
    "    else:\n",
    "        return A\n",
    "    \n",
    "def get_env_off_left_site(A):\n",
    "    z = np.array([1, 0])\n",
    "    return np.tensordot(np.tensordot(A.reshape(2, 2, 2, 2), z, [3, 0]), z, [1, 0]).T\n",
    "\n",
    "def put_env_on_right_site(q, ret_n=False):\n",
    "    q = q\n",
    "    a, b, c, d = q.reshape(-1)\n",
    "    n = np.sqrt(np.abs(a)**2+ np.abs(c)**2+ np.abs(b)**2+ np.abs(d)**2)\n",
    "    guess = np.array([[a, b, d.conj(), -c.conj()], [c, d, -b.conj(), a.conj()]])/n\n",
    "    orth = null_space(guess).conj().T\n",
    "    A = np.concatenate([guess, orth], axis=0)\n",
    "    \n",
    "    if ret_n:\n",
    "        return A, n\n",
    "    else:\n",
    "        return A\n",
    "\n",
    "    # Cirq Code:\n",
    "\n",
    "import cirq \n",
    "from qmps.represent import ShallowFullStateTensor, Environment, FullStateTensor, Tensor\n",
    "\n",
    "class ShallowFullStateTensor(cirq.Gate):\n",
    "    def __init__(self, bond_dim, βγs, symbol='U'):\n",
    "        self.βγs = βγs\n",
    "        self.p = len(βγs)\n",
    "        self.n_qubits = int(np.log2(bond_dim)) + 1\n",
    "        self.symbol = symbol\n",
    "\n",
    "    def num_qubits(self):\n",
    "        return self.n_qubits\n",
    "\n",
    "    def _decompose_(self, qubits):\n",
    "        return [cirq.rz(self.βγs[0])(qubits[0]), cirq.rx(self.βγs[1])(qubits[0]), cirq.rz(self.βγs[2])(qubits[0]),\n",
    "                cirq.rz(self.βγs[3])(qubits[1]), cirq.rx(self.βγs[4])(qubits[1]), cirq.rz(self.βγs[5])(qubits[1]),\n",
    "                cirq.CNOT(qubits[0], qubits[1]),\n",
    "                cirq.ry(self.βγs[6])(qubits[0]),\n",
    "                cirq.CNOT(qubits[1], qubits[0]),\n",
    "                cirq.ry(self.βγs[7])(qubits[0]), cirq.rz(self.βγs[8])(qubits[1]),\n",
    "                cirq.CNOT(qubits[0], qubits[1]),\n",
    "                cirq.rz(self.βγs[9])(qubits[0]), cirq.rx(self.βγs[10])(qubits[0]), cirq.rz(self.βγs[11])(qubits[0]),\n",
    "                cirq.rz(self.βγs[12])(qubits[1]), cirq.rx(self.βγs[13])(qubits[1]), cirq.rz(self.βγs[14])(qubits[1])]\n",
    "\n",
    "    def _circuit_diagram_info_(self, args):\n",
    "        return [self.symbol] * self.n_qubits\n",
    "\n",
    "class Depth2State(cirq.Gate):\n",
    "    def __init__(self, Us, n = 1):\n",
    "        assert len(Us) == 2\n",
    "        self.Us = Us\n",
    "        self.n_phys_qubits = 2*n\n",
    "        \n",
    "    def _decompose_(self, qubits):\n",
    "        return [self.Us[0](*qubits[n:n+2]) for n in range(0,self.n_phys_qubits,2)] + [self.Us[1](*qubits[n:n+2]) for n in range(1,self.n_phys_qubits+1, 2)]\n",
    "    \n",
    "    def num_qubits(self):\n",
    "        return self.n_phys_qubits + 1\n",
    "    \n",
    "    def _circuit_diagram_info_(self, args):\n",
    "        return [\"U1,2\"] * self.num_qubits()\n",
    "    \n",
    "class DepthNState(cirq.Gate):\n",
    "    def __init__(self, Us, depth, n=1):\n",
    "        assert len(Us) == depth\n",
    "        self.Us = Us\n",
    "        self.n_phys_qubits = 2*n\n",
    "        self.depth = depth\n",
    "        \n",
    "    def _decompose_(self, qubits):\n",
    "        list_of_gates = [[self.Us[i](*qubits[n+i:n+i+2]) for n in range(0,self.n_phys_qubits,2)] for i in range(self.depth)]\n",
    "        return list(chain.from_iterable(list_of_gates))\n",
    "    \n",
    "    def num_qubits(self):\n",
    "        return self.n_phys_qubits + self.depth - 1\n",
    "\n",
    "    def _circuit_diagram_info_(self, args):\n",
    "        return [\"U\"]*self.num_qubits()\n",
    "        \n",
    "def build_ciruit(U1, U2, Ū1, Ū2, Ut):\n",
    "    _,r = exact_right_env(*map(cirq.unitary, [U2,U1,Ū2,Ū1,Ut]))\n",
    "    R = Environment(put_env_on_left_site(r),'R')\n",
    "    L = Environment(put_env_on_right_site(r.conj().T),'L')\n",
    "\n",
    "    State = Depth2State([U2,U1], n = 2)\n",
    "    S̄ = Depth2State([Ū2,Ū1], n = 2)\n",
    "\n",
    "    qubits = cirq.LineQubit.range(8)\n",
    "    circuit = cirq.Circuit()\n",
    "    circuit.append([\n",
    "        cirq.H.on(qubits[5]),\n",
    "        cirq.CNOT.on(qubits[5],qubits[6]),\n",
    "        State.on(*qubits[1:6]),\n",
    "        L.on(*qubits[0:2]),\n",
    "        Ut.on(*qubits[2:6]),\n",
    "        R.on(*qubits[6:8]),\n",
    "\n",
    "        cirq.inverse(S̄.on(*qubits[1:6])),\n",
    "        cirq.CNOT.on(qubits[5],qubits[6]),\n",
    "        cirq.H.on(qubits[5])\n",
    "    ])\n",
    "    \n",
    "    return circuit\n",
    "\n",
    "\n",
    "def build_noenv_circuit(U1, U2, Ū1, Ū2, Ut):\n",
    "    Ū2inv = cirq.inverse(Ū2)\n",
    "    Ū1inv = cirq.inverse(Ū1)\n",
    "    \n",
    "    qubits = cirq.LineQubit.range(6)\n",
    "    circuit = cirq.Circuit()\n",
    "    \n",
    "    circuit.append([\n",
    "        U2.on(*qubits[0:2]),\n",
    "        U2.on(*qubits[2:4]),\n",
    "        U2.on(*qubits[4:6]),\n",
    "        U1.on(*qubits[1:3]),\n",
    "        U1.on(*qubits[3:5]),\n",
    "        Ut.on(*qubits[2:6]),\n",
    "        Ū2inv.on(*qubits[0:2]),\n",
    "        Ū2inv.on(*qubits[2:4]),\n",
    "        Ū2inv.on(*qubits[4:6]),\n",
    "        Ū1inv.on(*qubits[1:3]),\n",
    "        Ū1inv.on(*qubits[3:5])\n",
    "    ])\n",
    "    \n",
    "    return circuit\n",
    "\n",
    "\n",
    "def overlap(U1, U2, Ū1, Ū2, Ut, env = True):\n",
    "    if env:\n",
    "        circuit = build_ciruit(U1, U2,Ū1, Ū2, Ut)\n",
    "    else:\n",
    "        circuit = build_noenv_ciruit(U1, U2,Ū1, Ū2, Ut)\n",
    "        \n",
    "    sim = cirq.Simulator()\n",
    "    return 2*np.abs(sim.simulate(circuit).final_state_vector[0])\n",
    "\n",
    "\n",
    "\n",
    "def circuit_state(U1, U2, Ū1, Ū2, Ut):\n",
    "    circuit = build_ciruit(U1, U2, Ū1, Ū2, Ut)\n",
    "    sim = cirq.Simulator()\n",
    "    return sim.simulate(circuit).final_state_vector\n",
    "\n",
    "def State3Vector(U1, U2):\n",
    "    S = Depth2State([U2,U1], n=2)\n",
    "    circuit = cirq.Circuit()\n",
    "    qubits = cirq.LineQubit.range(6)\n",
    "    circuit.append([\n",
    "        U2.on(*qubits[4:6]),\n",
    "        cirq.decompose_once(S.on(*qubits[0:5]))\n",
    "    ])\n",
    "    sim = cirq.Simulator()\n",
    "    return sim.simulate(circuit).final_state_vector\n",
    "\n",
    "def State2Vector(U1, U2):\n",
    "    S = Depth2State([U2,U1], n=1)\n",
    "    circuit = cirq.Circuit()\n",
    "    qubits = cirq.LineQubit.range(4)\n",
    "    circuit.append([\n",
    "        U2.on(*qubits[2:4]),\n",
    "        cirq.decompose_once(S.on(*qubits[0:3]))\n",
    "    ])\n",
    "    sim = cirq.Simulator()\n",
    "    return sim.simulate(circuit).final_state_vector\n",
    "\n",
    "def TimeEvoObj(p, U1, U2, Ut):\n",
    "    Ū1 = ShallowFullStateTensor(2, p[:15], 'U1')\n",
    "    Ū2 = ShallowFullStateTensor(2, p[15:], 'U2')\n",
    "    return -overlap(U1, U2, Ū1, Ū2, Ut)\n",
    "\n",
    "def EnergyObj(p, H):\n",
    "    U1 = ShallowFullStateTensor(2, p[:15], 'U1')\n",
    "    U2 = ShallowFullStateTensor(2, p[15:], 'U2')\n",
    "    ψ = State3Vector(U1, U2)\n",
    "    \n",
    "    E = np.real(ψ.conj().T @ H @ ψ)\n",
    "    return E\n",
    "\n",
    "def Param2State(p):\n",
    "    U1 = ShallowFullStateTensor(2, p[:15], 'U1')\n",
    "    U2 = ShallowFullStateTensor(2, p[15:], 'U2')\n",
    "    return State2Vector(U1, U2)\n",
    "\n",
    "test_right_env_adjustment = True\n",
    "\n",
    "if test_right_env_adjustment:\n",
    "    U2,U1 = [unitary_group.rvs(4), unitary_group.rvs(4)]\n",
    "    Ū2,Ū1 = [unitary_group.rvs(4), unitary_group.rvs(4)]\n",
    "    \n",
    "    _,exact_r = exact_right_env(U2,U1,Ū2,Ū1,np.eye(16))\n",
    "    print(\"Exact Right Environment:\")\n",
    "    print(exact_r)\n",
    "    print(\"\\n\")\n",
    "\n",
    "    adjusted_r = right_env(U2,U1,Ū2,Ū1)\n",
    "    print(\"Adjusted Right Environment:\")\n",
    "    print(adjusted_r)\n",
    "\n",
    "    print(\"\\nWe can see that the adjusted trivial environment gives the correct answer\")"
   ]
  },
  {
   "cell_type": "code",
   "execution_count": 33,
   "metadata": {},
   "outputs": [
    {
     "name": "stdout",
     "output_type": "stream",
     "text": [
      "(array([1.+1.25202926e-17j]), array([[ 0.40298484+0.00000000e+00j, -0.35457646+2.89077107e-01j],\n",
      "       [-0.35457646-2.89077107e-01j,  0.64731997+5.55111512e-17j]]))\n",
      "(array([1.+8.17488438e-17j]), array([[ 0.14709442-3.46944695e-18j, -0.13218456-9.18117342e-02j,\n",
      "        -0.20137008+7.42284550e-02j,  0.19013589-7.63308829e-02j],\n",
      "       [-0.13218456+9.18117342e-02j,  0.27884229-9.71445147e-17j,\n",
      "         0.10831204-2.00357383e-01j, -0.17340117+2.31312950e-01j],\n",
      "       [-0.20137008-7.42284550e-02j,  0.10831204+2.00357383e-01j,\n",
      "         0.33506983-9.71445147e-17j, -0.28944626+7.75550435e-03j],\n",
      "       [ 0.19013589+7.63308829e-02j, -0.17340117-2.31312950e-01j,\n",
      "        -0.28944626-7.75550435e-03j,  0.34911805-5.55111512e-17j]]))\n"
     ]
    }
   ],
   "source": [
    "U1, U2, U3 = [unitary_group.rvs(4)]*3\n",
    "print(exact_right_env(U2,U2, U1,U1, np.eye(16)))\n",
    "\n",
    "print(RightEnv([U2,U2,U2], [U1,U1,U1], np.eye(16)))"
   ]
  },
  {
   "cell_type": "code",
   "execution_count": 2,
   "metadata": {
    "scrolled": true
   },
   "outputs": [
    {
     "name": "stderr",
     "output_type": "stream",
     "text": [
      "\r",
      "  0%|          | 0/5 [00:00<?, ?it/s]"
     ]
    },
    {
     "name": "stdout",
     "output_type": "stream",
     "text": [
      "-1.672110210277313\n"
     ]
    },
    {
     "name": "stderr",
     "output_type": "stream",
     "text": [
      "100%|██████████| 5/5 [02:29<00:00, 29.96s/it]\n"
     ]
    },
    {
     "data": {
      "image/png": "[encoded data removed]",
      "text/plain": [
       "<Figure size 432x288 with 1 Axes>"
      ]
     },
     "metadata": {
      "needs_background": "light"
     },
     "output_type": "display_data"
    }
   ],
   "source": [
    "# Loschimdt Echos:\n",
    "from tqdm import tqdm\n",
    "\n",
    "initial_state = np.random.rand(30)\n",
    "g0, g1 = 1.5, 0.2\n",
    "\n",
    "# Ham = Hamiltonian({\"ZZ\":-1,\"X\":g0}).to_matrix()\n",
    "# H2 = tensor_prod([I,Ham,Ham,I])\n",
    "# H3 = tensor_prod([I,I,Ham,I,I])\n",
    "# H23 = (0.5*H2 + H3)\n",
    "\n",
    "def Ham(J,g):\n",
    "    return sum([\n",
    "                (J/3)*sum([\n",
    "                    tensor_prod([Z,Z,I,I]),\n",
    "                    tensor_prod([I,Z,Z,I]),\n",
    "                    tensor_prod([I,I,Z,Z])]),\n",
    "                (g/4)*sum([\n",
    "                    tensor_prod([X,I,I,I]),\n",
    "                    tensor_prod([I,X,I,I]),\n",
    "                    tensor_prod([I,I,X,I]),\n",
    "                    tensor_prod([I,I,I,X])\n",
    "                ])])\n",
    "\n",
    "from functools import partial\n",
    "import matplotlib.pyplot as plt\n",
    "\n",
    "results = []\n",
    "def print_function(xk, Ham, res):\n",
    "    E = EnergyObj(xk, Ham)\n",
    "    res.append(E)\n",
    "    #print(E)\n",
    "\n",
    "cb = partial(print_function, Ham = tensor_prod([I,Ham(-1,g0),I]), res = results)\n",
    "\n",
    "ground_state = minimize(\n",
    "    EnergyObj,\n",
    "    x0 = initial_state,\n",
    "    method = \"Nelder-Mead\",\n",
    "    args = (tensor_prod([I,Ham(-1,g0),I]),),\n",
    "    callback = cb,\n",
    "    tol = 1e-8\n",
    ")\n",
    "\n",
    "print(ground_state.fun)\n",
    "plt.plot(results)\n",
    "\n",
    "# with open(\"g0-15-LoschmidtGroundStateParams.pkl\",\"wb\") as f:\n",
    "#     pickle.dump(ground_state.x, f)\n",
    "\n",
    "\n",
    "STEPS = 5\n",
    "DT = 0.01\n",
    "\n",
    "Ut = FullStateTensor(expm(-1j * Ham(-1,g1) * DT))\n",
    "\n",
    "params = []\n",
    "init_param = ground_state.x\n",
    "for _ in tqdm(range(STEPS)):\n",
    "    params.append(init_param)\n",
    "    U1 = ShallowFullStateTensor(2, init_param[:15], 'U1')\n",
    "    U2 = ShallowFullStateTensor(2, init_param[15:], 'U2')\n",
    "\n",
    "    next_step = minimize(\n",
    "        TimeEvoObj,\n",
    "        x0 = init_param,\n",
    "        method = \"Nelder-Mead\",\n",
    "        args = (U1, U2, Ut),\n",
    "        options = {\"disp\":False}\n",
    "    )\n",
    "    \n",
    "    init_param = next_step.x\n",
    "\n"
   ]
  },
  {
   "cell_type": "code",
   "execution_count": 136,
   "metadata": {},
   "outputs": [
    {
     "name": "stdout",
     "output_type": "stream",
     "text": [
      "Joint Probability:  0.25075\n",
      "Conditional Probability:  0.5413662075219137\n",
      "0.46318\n"
     ]
    }
   ],
   "source": [
    "# Compare Joint Cost Function vs Conditional Cost Function:\n",
    "U1 = FullStateTensor(unitary_group.rvs(4))\n",
    "Ū1 = FullStateTensor(U1._unitary_())\n",
    "U2 = FullStateTensor(unitary_group.rvs(4))\n",
    "Ū2 = FullStateTensor(U2._unitary_())\n",
    "\n",
    "circuit = build_ciruit(U1,U2,Ū1,Ū2,FullStateTensor(np.eye(16)))\n",
    "circuit.append([cirq.measure(*circuit.all_qubits())])\n",
    "\n",
    "REPS = 100000\n",
    "samples = cirq.sample(circuit, repetitions=REPS)\n",
    "ψ = samples.measurements['5,4,3,2,1,0,7,6']\n",
    "# Qubit ordering is as follows: \"5,4,3,2,1,0,7,6\"\n",
    "\n",
    "# 0e is measuring the end qubits as 0\n",
    "# Joint Prob = P(0e,0,...,0,0e) \n",
    "JP = sum(np.all(ψ == 0, axis=1))/REPS\n",
    "print(\"Joint Probability: \", JP)\n",
    "\n",
    "# # Conditional Probability = P(0,0,...,0| 0e,0e) = P(0e,0,...,0,0e) / P(0e,0e)\n",
    "# # ψ is length 256. The first qbuit is in zero in the first 128 values. Then alternating values have the end qubit\n",
    "# #    in the zero state. So we want the 0th, 2nd, 4th,...128th values\n",
    "\n",
    "CP = REPS * JP / sum((ψ[:,6] == 0)[ψ[:,5] == 0])\n",
    "print(\"Conditional Probability: \", CP)\n",
    "\n",
    "print(JP / CP)"
   ]
  },
  {
   "cell_type": "code",
   "execution_count": 3,
   "metadata": {},
   "outputs": [
    {
     "data": {
      "image/png": "[encoded data removed]",
      "text/plain": [
       "<Figure size 432x288 with 1 Axes>"
      ]
     },
     "metadata": {
      "needs_background": "light"
     },
     "output_type": "display_data"
    }
   ],
   "source": [
    "## Plot Loschmidt\n",
    "from xmps.iMPS import iMPS\n",
    "\n",
    "def LoschmidtOverlap(p0,params):\n",
    "    U1 = cirq.unitary(ShallowFullStateTensor(2, p0[:15], 'U1'))\n",
    "    U2 = cirq.unitary(ShallowFullStateTensor(2, p0[15:], 'U2'))\n",
    "    \n",
    "    Ū1 = cirq.unitary(ShallowFullStateTensor(2, params[:15], 'U1'))\n",
    "    Ū2 = cirq.unitary(ShallowFullStateTensor(2, params[15:], 'U2'))\n",
    "    \n",
    "    A = iMPS([tensor(U2,U1)]).left_canonicalise()\n",
    "    Ā = iMPS([tensor(Ū2,Ū1)]).left_canonicalise()\n",
    "    \n",
    "    return -np.log(np.abs(A.overlap(Ā)))\n",
    "    \n",
    "\n",
    "def PlotLoschimdt(param_results):\n",
    "    p0 = param_results[0]\n",
    "    \n",
    "    results = []\n",
    "    for p in param_results:\n",
    "        results.append(LoschmidtOverlap(p0,p))\n",
    "        \n",
    "    plt.plot(results)\n",
    "\n",
    "with open(\"bwLochsmidtNoEnv200FixedStarting.pkl\", \"rb\") as f:\n",
    "    x = pickle.load(f)    \n",
    "\n",
    "PlotLoschimdt(x)\n",
    "        "
   ]
  },
  {
   "cell_type": "code",
   "execution_count": 20,
   "metadata": {},
   "outputs": [
    {
     "name": "stderr",
     "output_type": "stream",
     "text": [
      "/home/jamie/anaconda3/envs/Cirq/lib/python3.7/site-packages/ipykernel_launcher.py:21: ComplexWarning: Casting complex values to real discards the imaginary part\n"
     ]
    },
    {
     "data": {
      "text/latex": [
       "$\\displaystyle \\left[\\begin{matrix}1.0 \\cos{\\left(θ \\right)} & 0 & 0 & - 1.0 i \\sin{\\left(θ \\right)}\\\\0 & 1.0 \\cos{\\left(θ \\right)} & - 1.0 i \\sin{\\left(θ \\right)} & 0\\\\0 & - 1.0 i \\sin{\\left(θ \\right)} & 1.0 \\cos{\\left(θ \\right)} & 0\\\\- 1.0 i \\sin{\\left(θ \\right)} & 0 & 0 & 1.0 \\cos{\\left(θ \\right)}\\end{matrix}\\right]$"
      ],
      "text/plain": [
       "Matrix([\n",
       "[   1.0*cos(θ),             0,             0, -1.0*I*sin(θ)],\n",
       "[            0,    1.0*cos(θ), -1.0*I*sin(θ),             0],\n",
       "[            0, -1.0*I*sin(θ),    1.0*cos(θ),             0],\n",
       "[-1.0*I*sin(θ),             0,             0,    1.0*cos(θ)]])"
      ]
     },
     "execution_count": 20,
     "metadata": {},
     "output_type": "execute_result"
    }
   ],
   "source": [
    "from sympy import Symbol, Matrix, simplify, I, exp\n",
    "\n",
    "Y = np.array([\n",
    "    [0,-1j],\n",
    "    [1j,0]\n",
    "])\n",
    "\n",
    "X = np.array([\n",
    "    [0,1],\n",
    "    [1,0]\n",
    "])\n",
    "\n",
    "Z = np.array([\n",
    "    [1,0],\n",
    "    [0,-1]\n",
    "])\n",
    "\n",
    "θ = Symbol('θ')\n",
    "\n",
    "xx = np.kron(X,X).astype(int)\n",
    "yy = np.kron(Y,Y).astype(int)\n",
    "\n",
    "XX = Matrix(xx.tolist())\n",
    "YY = Matrix(yy.tolist())\n",
    "\n",
    "\n",
    "# this is the samea s the K gate in the Google Paper\n",
    "Kθ = simplify(exp(-0.5 * I * (XX + YY) * θ))\n",
    "\n",
    "# We want to get somethin that is like exp(I*XX*θ)\n",
    "# First define a slightly different gate:\n",
    "K̃θ = simplify(exp(-0.5 * I * (XX - YY) * θ))\n",
    "\n",
    "# Now K * K̃ α exp(I XX θ):\n",
    "K̃θKθ = K̃θ * Kθ\n",
    "K̃θKθ\n",
    "\n",
    "expXX = simplify(exp(-0.5 * I * (XX) * 2*θ))\n",
    "expXX\n",
    "\n",
    "# These gates are the same\n",
    "# We note that we can easily make K̃ from K using a single X gate on the second qubit leg"
   ]
  },
  {
   "cell_type": "code",
   "execution_count": 21,
   "metadata": {},
   "outputs": [
    {
     "data": {
      "text/latex": [
       "$\\displaystyle \\left[\\begin{matrix}1.0 \\cos{\\left(θ \\right)} & 0 & 0 & - 1.0 i \\sin{\\left(θ \\right)}\\\\0 & 1.0 & 0 & 0\\\\0 & 0 & 1.0 & 0\\\\- 1.0 i \\sin{\\left(θ \\right)} & 0 & 0 & 1.0 \\cos{\\left(θ \\right)}\\end{matrix}\\right]$"
      ],
      "text/plain": [
       "Matrix([\n",
       "[   1.0*cos(θ),   0,   0, -1.0*I*sin(θ)],\n",
       "[            0, 1.0,   0,             0],\n",
       "[            0,   0, 1.0,             0],\n",
       "[-1.0*I*sin(θ),   0,   0,    1.0*cos(θ)]])"
      ]
     },
     "execution_count": 21,
     "metadata": {},
     "output_type": "execute_result"
    }
   ],
   "source": [
    "K̃θ"
   ]
  },
  {
   "cell_type": "code",
   "execution_count": null,
   "metadata": {},
   "outputs": [],
   "source": []
  },
  {
   "cell_type": "code",
   "execution_count": 22,
   "metadata": {},
   "outputs": [
    {
     "data": {
      "text/latex": [
       "$\\displaystyle \\left[\\begin{matrix}1.0 & 0 & 0 & 0\\\\0 & 1.0 \\cos{\\left(2.0 θ \\right)} & 1.0 i \\sin{\\left(2.0 θ \\right)} & 0\\\\0 & 1.0 i \\sin{\\left(2.0 θ \\right)} & 1.0 \\cos{\\left(2.0 θ \\right)} & 0\\\\0 & 0 & 0 & 1.0\\end{matrix}\\right]$"
      ],
      "text/plain": [
       "Matrix([\n",
       "[1.0,                0,                0,   0],\n",
       "[  0,   1.0*cos(2.0*θ), 1.0*I*sin(2.0*θ),   0],\n",
       "[  0, 1.0*I*sin(2.0*θ),   1.0*cos(2.0*θ),   0],\n",
       "[  0,                0,                0, 1.0]])"
      ]
     },
     "execution_count": 22,
     "metadata": {},
     "output_type": "execute_result"
    }
   ],
   "source": [
    "XXYY = simplify(exp(0.5*I*(XX + YY)*2*θ))\n",
    "XXYY"
   ]
  },
  {
   "cell_type": "code",
   "execution_count": 29,
   "metadata": {},
   "outputs": [
    {
     "data": {
      "text/latex": [
       "$\\displaystyle \\left[\\begin{matrix}1.0 \\cos{\\left(2.0 θ \\right)} & 0 & 0 & 1.0 i \\sin{\\left(2.0 θ \\right)}\\\\0 & 1.0 & 0 & 0\\\\0 & 0 & 1.0 & 0\\\\1.0 i \\sin{\\left(2.0 θ \\right)} & 0 & 0 & 1.0 \\cos{\\left(2.0 θ \\right)}\\end{matrix}\\right]$"
      ],
      "text/plain": [
       "Matrix([\n",
       "[  1.0*cos(2.0*θ),   0,   0, 1.0*I*sin(2.0*θ)],\n",
       "[               0, 1.0,   0,                0],\n",
       "[               0,   0, 1.0,                0],\n",
       "[1.0*I*sin(2.0*θ),   0,   0,   1.0*cos(2.0*θ)]])"
      ]
     },
     "execution_count": 29,
     "metadata": {},
     "output_type": "execute_result"
    }
   ],
   "source": [
    "XXȲȲ = simplify(exp(0.5*I*(XX - YY)*2*θ))\n",
    "XXȲȲ"
   ]
  },
  {
   "cell_type": "code",
   "execution_count": 30,
   "metadata": {},
   "outputs": [
    {
     "data": {
      "text/latex": [
       "$\\displaystyle \\left[\\begin{matrix}1.0 \\cos{\\left(0.5 θ \\right)} & 0 & 0 & 1.0 i \\sin{\\left(0.5 θ \\right)}\\\\0 & 1.0 \\cos{\\left(0.5 θ \\right)} & 1.0 i \\sin{\\left(0.5 θ \\right)} & 0\\\\0 & 1.0 i \\sin{\\left(0.5 θ \\right)} & 1.0 \\cos{\\left(0.5 θ \\right)} & 0\\\\1.0 i \\sin{\\left(0.5 θ \\right)} & 0 & 0 & 1.0 \\cos{\\left(0.5 θ \\right)}\\end{matrix}\\right]$"
      ],
      "text/plain": [
       "Matrix([\n",
       "[  1.0*cos(0.5*θ),                0,                0, 1.0*I*sin(0.5*θ)],\n",
       "[               0,   1.0*cos(0.5*θ), 1.0*I*sin(0.5*θ),                0],\n",
       "[               0, 1.0*I*sin(0.5*θ),   1.0*cos(0.5*θ),                0],\n",
       "[1.0*I*sin(0.5*θ),                0,                0,   1.0*cos(0.5*θ)]])"
      ]
     },
     "execution_count": 30,
     "metadata": {},
     "output_type": "execute_result"
    }
   ],
   "source": [
    "simplify(exp(0.5*I*(XX)*θ))"
   ]
  },
  {
   "cell_type": "code",
   "execution_count": 31,
   "metadata": {},
   "outputs": [
    {
     "data": {
      "text/latex": [
       "$\\displaystyle \\left[\\begin{matrix}1.0 \\cos{\\left(2.0 θ \\right)} & 0 & 0 & 1.0 i \\sin{\\left(2.0 θ \\right)}\\\\0 & 1.0 \\cos{\\left(2.0 θ \\right)} & 1.0 i \\sin{\\left(2.0 θ \\right)} & 0\\\\0 & 1.0 i \\sin{\\left(2.0 θ \\right)} & 1.0 \\cos{\\left(2.0 θ \\right)} & 0\\\\1.0 i \\sin{\\left(2.0 θ \\right)} & 0 & 0 & 1.0 \\cos{\\left(2.0 θ \\right)}\\end{matrix}\\right]$"
      ],
      "text/plain": [
       "Matrix([\n",
       "[  1.0*cos(2.0*θ),                0,                0, 1.0*I*sin(2.0*θ)],\n",
       "[               0,   1.0*cos(2.0*θ), 1.0*I*sin(2.0*θ),                0],\n",
       "[               0, 1.0*I*sin(2.0*θ),   1.0*cos(2.0*θ),                0],\n",
       "[1.0*I*sin(2.0*θ),                0,                0,   1.0*cos(2.0*θ)]])"
      ]
     },
     "execution_count": 31,
     "metadata": {},
     "output_type": "execute_result"
    }
   ],
   "source": [
    "simplify(XXYY*XXȲȲ)"
   ]
  },
  {
   "cell_type": "code",
   "execution_count": 61,
   "metadata": {},
   "outputs": [
    {
     "data": {
      "text/latex": [
       "$\\displaystyle \\left[\\begin{matrix}1.0 \\cos{\\left(2.0 θ \\right)} & 0 & 0 & 1.0 i \\sin{\\left(2.0 θ \\right)}\\\\0 & 1.0 & 0 & 0\\\\0 & 0 & 1.0 & 0\\\\1.0 i \\sin{\\left(2.0 θ \\right)} & 0 & 0 & 1.0 \\cos{\\left(2.0 θ \\right)}\\end{matrix}\\right]$"
      ],
      "text/plain": [
       "Matrix([\n",
       "[  1.0*cos(2.0*θ),   0,   0, 1.0*I*sin(2.0*θ)],\n",
       "[               0, 1.0,   0,                0],\n",
       "[               0,   0, 1.0,                0],\n",
       "[1.0*I*sin(2.0*θ),   0,   0,   1.0*cos(2.0*θ)]])"
      ]
     },
     "execution_count": 61,
     "metadata": {},
     "output_type": "execute_result"
    }
   ],
   "source": [
    "# We can make eⁱ(XX - YY) using single qubit gates and the native G(θ) gate\n",
    "\n",
    "ix = np.kron(np.eye(2),X).astype(int)\n",
    "IX = Matrix(ix.tolist())\n",
    "\n",
    "IX*XXYY*IX"
   ]
  },
  {
   "cell_type": "code",
   "execution_count": 85,
   "metadata": {},
   "outputs": [
    {
     "data": {
      "text/latex": [
       "$\\displaystyle \\left[\\begin{matrix}1.0 e^{1.0 i g θ} & 0 & 0 & 0\\\\0 & 1.0 & 0 & 0\\\\0 & 0 & 1.0 & 0\\\\0 & 0 & 0 & 1.0 e^{- 1.0 i g θ}\\end{matrix}\\right]$"
      ],
      "text/plain": [
       "Matrix([\n",
       "[1.0*exp(1.0*I*g*θ),   0,   0,                   0],\n",
       "[                 0, 1.0,   0,                   0],\n",
       "[                 0,   0, 1.0,                   0],\n",
       "[                 0,   0,   0, 1.0*exp(-1.0*I*g*θ)]])"
      ]
     },
     "execution_count": 85,
     "metadata": {},
     "output_type": "execute_result"
    }
   ],
   "source": [
    "# XX @ CPHASE(-θ) @ XX @ CPHASE(θ)\n",
    "cz = np.array([\n",
    "    [1,0,0,0],\n",
    "    [0,1,0,0],\n",
    "    [0,0,1,0],\n",
    "    [0,0,0,-1]\n",
    "])\n",
    "\n",
    "CZ = Matrix(cz.tolist())\n",
    "XX = Matrix([\n",
    "    [0,0,0,1],\n",
    "    [0,0,1,0],\n",
    "    [0,1,0,0],\n",
    "    [1,0,0,0]\n",
    "])\n",
    "\n",
    "\n",
    "CZGate = exp(0.5*I*CZ*θ*g)\n",
    "MinCZGate = exp(-0.5*I*CZ*θ*g)\n",
    "\n",
    "CZGate*XX*MinCZGate*XX"
   ]
  },
  {
   "cell_type": "code",
   "execution_count": 84,
   "metadata": {},
   "outputs": [
    {
     "data": {
      "text/latex": [
       "$\\displaystyle \\left[\\begin{matrix}1.0 e^{i g θ} & 0 & 0 & 0\\\\0 & 1.0 & 0 & 0\\\\0 & 0 & 1.0 & 0\\\\0 & 0 & 0 & 1.0 e^{- i g θ}\\end{matrix}\\right]$"
      ],
      "text/plain": [
       "Matrix([\n",
       "[1.0*exp(I*g*θ),   0,   0,               0],\n",
       "[             0, 1.0,   0,               0],\n",
       "[             0,   0, 1.0,               0],\n",
       "[             0,   0,   0, 1.0*exp(-I*g*θ)]])"
      ]
     },
     "execution_count": 84,
     "metadata": {},
     "output_type": "execute_result"
    }
   ],
   "source": [
    "# eⁱθ(ZI + IZ)\n",
    "\n",
    "zi = np.kron(Z,np.eye(2)).astype(int)\n",
    "iz = np.kron(np.eye(2),Z).astype(int)\n",
    "\n",
    "ZI = Matrix(zi.tolist())\n",
    "IZ = Matrix(iz.tolist())\n",
    "\n",
    "ZIIZ = exp(0.5*I*(ZI+IZ)*g*θ)\n",
    "ZIIZ"
   ]
  },
  {
   "cell_type": "code",
   "execution_count": 72,
   "metadata": {},
   "outputs": [
    {
     "data": {
      "text/latex": [
       "$\\displaystyle \\left[\\begin{matrix}0.5 \\left(e^{2 i J θ} + 1\\right) e^{i θ \\left(- J + g\\right)} & 0 & 0 & \\left(0.5 e^{2 i J θ} - 0.5\\right) e^{- i θ \\left(J + g\\right)}\\\\0 & 1.0 \\cos{\\left(J θ \\right)} & 1.0 i \\sin{\\left(J θ \\right)} & 0\\\\0 & 1.0 i \\sin{\\left(J θ \\right)} & 1.0 \\cos{\\left(J θ \\right)} & 0\\\\0.5 \\left(e^{2 i J θ} - 1\\right) e^{- i θ \\left(J - g\\right)} & 0 & 0 & 0.5 \\left(e^{2 i J θ} + 1\\right) e^{- i θ \\left(J + g\\right)}\\end{matrix}\\right]$"
      ],
      "text/plain": [
       "Matrix([\n",
       "[0.5*(exp(2*I*J*θ) + 1)*exp(I*θ*(-J + g)),              0,              0, (0.5*exp(2*I*J*θ) - 0.5)*exp(-I*θ*(J + g))],\n",
       "[                                       0,   1.0*cos(J*θ), 1.0*I*sin(J*θ),                                          0],\n",
       "[                                       0, 1.0*I*sin(J*θ),   1.0*cos(J*θ),                                          0],\n",
       "[0.5*(exp(2*I*J*θ) - 1)*exp(-I*θ*(J - g)),              0,              0,   0.5*(exp(2*I*J*θ) + 1)*exp(-I*θ*(J + g))]])"
      ]
     },
     "execution_count": 72,
     "metadata": {},
     "output_type": "execute_result"
    }
   ],
   "source": [
    "# Transverse Field Ising Model\n",
    "\n",
    "J = Symbol('J')\n",
    "g = Symbol('g')\n",
    "XX = Matrix(np.kron(X,X).astype(int).tolist())\n",
    "ZIIZ = Matrix((0.5*(np.kron(np.eye(2),Z) +np.kron(Z,np.eye(2)))).tolist())\n",
    "TFIM = simplify(exp(I*(J*XX)*θ) * exp(I*(g*ZIIZ)*θ))\n",
    "TFIM"
   ]
  },
  {
   "cell_type": "code",
   "execution_count": 86,
   "metadata": {},
   "outputs": [
    {
     "name": "stdout",
     "output_type": "stream",
     "text": [
      "[[ 0.+0.j -1.+0.j]\n",
      " [-1.+0.j  0.+0.j]]\n",
      "[[ 1.+0.j  0.+0.j]\n",
      " [ 0.+0.j -1.+0.j]]\n"
     ]
    }
   ],
   "source": [
    "# So far we have shown how to implement the slightly different ising model: Σi XᵢXᵢ+1 + Σj(ZᵢIᵢ+1 IᵢZᵢ+1)/2.\n",
    "# To get to this form, we can transform with a Y Gate: \n",
    "# YZ = X\n",
    "# YX = -Z\n",
    "# This is just a π rotation about the Y axis - and we can then implement all this gates.\n",
    "\n",
    "print(1j*Y@Z)\n",
    "print(1j*Y@X)"
   ]
  },
  {
   "cell_type": "code",
   "execution_count": null,
   "metadata": {},
   "outputs": [],
   "source": []
  },
  {
   "cell_type": "code",
   "execution_count": null,
   "metadata": {},
   "outputs": [],
   "source": [
    "\n"
   ]
  }
 ],
 "metadata": {
  "kernelspec": {
   "display_name": "Python 3",
   "language": "python",
   "name": "python3"
  },
  "language_info": {
   "codemirror_mode": {
    "name": "ipython",
    "version": 3
   },
   "file_extension": ".py",
   "mimetype": "text/x-python",
   "name": "python",
   "nbconvert_exporter": "python",
   "pygments_lexer": "ipython3",
   "version": "3.7.6"
  },
  "toc": {
   "base_numbering": 1,
   "nav_menu": {},
   "number_sections": true,
   "sideBar": true,
   "skip_h1_title": false,
   "title_cell": "Table of Contents",
   "title_sidebar": "Contents",
   "toc_cell": false,
   "toc_position": {},
   "toc_section_display": true,
   "toc_window_display": false
  }
 },
 "nbformat": 4,
 "nbformat_minor": 4
}
